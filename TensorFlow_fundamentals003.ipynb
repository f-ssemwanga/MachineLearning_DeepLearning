{
  "nbformat": 4,
  "nbformat_minor": 0,
  "metadata": {
    "colab": {
      "provenance": [],
      "toc_visible": true,
      "authorship_tag": "ABX9TyNdiNFkzW0MwwfoXj/ca27b",
      "include_colab_link": true
    },
    "kernelspec": {
      "name": "python3",
      "display_name": "Python 3"
    },
    "language_info": {
      "name": "python"
    }
  },
  "cells": [
    {
      "cell_type": "markdown",
      "metadata": {
        "id": "view-in-github",
        "colab_type": "text"
      },
      "source": [
        "<a href=\"https://colab.research.google.com/github/f-ssemwanga/MachineLearning_DeepLearning/blob/main/TensorFlow_fundamentals003.ipynb\" target=\"_parent\"><img src=\"https://colab.research.google.com/assets/colab-badge.svg\" alt=\"Open In Colab\"/></a>"
      ]
    },
    {
      "cell_type": "markdown",
      "source": [
        "##**Tensors and Numpy**\n",
        "\n",
        "Numpy is the fundamental package for scientific computing with python\n",
        "\n",
        "* Numpy is built upon the numpy array object\n",
        "* Tensorflow interacts beautifully with Numpy arrays\n",
        "* Benefit of converting tensors to numpy array is that if there is a functionality that is not working within a tensor e.g. access to an element you can convert the tensor to a numpy array and access data as showin in cell 5\n",
        "* The default type for a tensor from a numpy array is float64 where as the default type of a tensor is float32.  We saw this when working out standard deviation and variance, See check in cell 9"
      ],
      "metadata": {
        "id": "xLcctkOtvGd1"
      }
    },
    {
      "cell_type": "code",
      "execution_count": 3,
      "metadata": {
        "id": "a2nPGnGnu7Zy",
        "colab": {
          "base_uri": "https://localhost:8080/"
        },
        "outputId": "2ff81cf1-7b64-4376-a7b6-90dd4ecb7a9e"
      },
      "outputs": [
        {
          "output_type": "execute_result",
          "data": {
            "text/plain": [
              "<tf.Tensor: shape=(3,), dtype=float64, numpy=array([ 3.,  7., 10.])>"
            ]
          },
          "metadata": {},
          "execution_count": 3
        }
      ],
      "source": [
        "import tensorflow as tf\n",
        "import numpy as np\n",
        "\n",
        "#create a tensor directly from a Numpy array\n",
        "J = tf.constant(np.array([3.,7., 10.,]))\n",
        "J"
      ]
    },
    {
      "cell_type": "code",
      "source": [
        "#Convert tensor J into a Numpy array\n",
        "np.array(J), type(np.array(J))"
      ],
      "metadata": {
        "colab": {
          "base_uri": "https://localhost:8080/"
        },
        "id": "qDouAApBxeXZ",
        "outputId": "083c7561-20f7-4c83-a239-828c609da59d"
      },
      "execution_count": 4,
      "outputs": [
        {
          "output_type": "execute_result",
          "data": {
            "text/plain": [
              "(array([ 3.,  7., 10.]), numpy.ndarray)"
            ]
          },
          "metadata": {},
          "execution_count": 4
        }
      ]
    },
    {
      "cell_type": "code",
      "source": [
        "#Alternative way of converting a tensor to a numpy array\n",
        "J.numpy(), type(J.numpy())"
      ],
      "metadata": {
        "colab": {
          "base_uri": "https://localhost:8080/"
        },
        "id": "7hbtC1uux11G",
        "outputId": "d49d1a0c-412d-44b8-e8bf-0b44f1fb89a1"
      },
      "execution_count": 5,
      "outputs": [
        {
          "output_type": "execute_result",
          "data": {
            "text/plain": [
              "(array([ 3.,  7., 10.]), numpy.ndarray)"
            ]
          },
          "metadata": {},
          "execution_count": 5
        }
      ]
    },
    {
      "cell_type": "code",
      "source": [
        "J.numpy()[2] #gives access to the element at position 2\n"
      ],
      "metadata": {
        "colab": {
          "base_uri": "https://localhost:8080/"
        },
        "id": "4B3XuF13yInR",
        "outputId": "668c9218-915f-4dc6-f6e4-4dbaaca27884"
      },
      "execution_count": 7,
      "outputs": [
        {
          "output_type": "execute_result",
          "data": {
            "text/plain": [
              "10.0"
            ]
          },
          "metadata": {},
          "execution_count": 7
        }
      ]
    },
    {
      "cell_type": "code",
      "source": [
        "#The default types of each are slightly different\n",
        "numpy_J = tf.constant(np.array([3.,5., 9.]))\n",
        "tensor_J = tf.constant([3.,5., 9.])\n",
        "\n",
        "#check the data types of each\n",
        "numpy_J.dtype, tensor_J.dtype"
      ],
      "metadata": {
        "colab": {
          "base_uri": "https://localhost:8080/"
        },
        "id": "MfIxUUwly_n4",
        "outputId": "d6ea9419-f0f4-403f-e88e-6f9fa478c58f"
      },
      "execution_count": 10,
      "outputs": [
        {
          "output_type": "execute_result",
          "data": {
            "text/plain": [
              "(tf.float64, tf.float32)"
            ]
          },
          "metadata": {},
          "execution_count": 10
        }
      ]
    }
  ]
}