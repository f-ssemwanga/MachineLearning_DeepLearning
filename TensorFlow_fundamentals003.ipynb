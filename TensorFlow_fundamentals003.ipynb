{
  "nbformat": 4,
  "nbformat_minor": 0,
  "metadata": {
    "colab": {
      "provenance": [],
      "authorship_tag": "ABX9TyNlb7JUZBGgsuis4jmW4DqY",
      "include_colab_link": true
    },
    "kernelspec": {
      "name": "python3",
      "display_name": "Python 3"
    },
    "language_info": {
      "name": "python"
    },
    "accelerator": "GPU",
    "gpuClass": "standard"
  },
  "cells": [
    {
      "cell_type": "markdown",
      "metadata": {
        "id": "view-in-github",
        "colab_type": "text"
      },
      "source": [
        "<a href=\"https://colab.research.google.com/github/f-ssemwanga/MachineLearning_DeepLearning/blob/main/TensorFlow_fundamentals003.ipynb\" target=\"_parent\"><img src=\"https://colab.research.google.com/assets/colab-badge.svg\" alt=\"Open In Colab\"/></a>"
      ]
    },
    {
      "cell_type": "markdown",
      "source": [
        "##**Tensors and Numpy**\n",
        "\n",
        "Numpy is the fundamental package for scientific computing with python\n",
        "\n",
        "* Numpy is built upon the numpy array object\n",
        "* Tensorflow interacts beautifully with Numpy arrays\n",
        "* Benefit of converting tensors to numpy array is that if there is a functionality that is not working within a tensor e.g. access to an element you can convert the tensor to a numpy array and access data as showin in cell 5\n",
        "* The default type for a tensor from a numpy array is float64 where as the default type of a tensor is float32.  We saw this when working out standard deviation and variance, See check in cell 9\n",
        "* Tensorflow tensor can be run on a GPU or TPU for faster numeric processing"
      ],
      "metadata": {
        "id": "xLcctkOtvGd1"
      }
    },
    {
      "cell_type": "code",
      "execution_count": 3,
      "metadata": {
        "id": "a2nPGnGnu7Zy",
        "colab": {
          "base_uri": "https://localhost:8080/"
        },
        "outputId": "8e7b8dfc-6ad9-49f0-cd7e-f3c5340849a4"
      },
      "outputs": [
        {
          "output_type": "execute_result",
          "data": {
            "text/plain": [
              "<tf.Tensor: shape=(3,), dtype=float64, numpy=array([ 3.,  7., 10.])>"
            ]
          },
          "metadata": {},
          "execution_count": 3
        }
      ],
      "source": [
        "import tensorflow as tf\n",
        "import numpy as np\n",
        "\n",
        "#create a tensor directly from a Numpy array\n",
        "J = tf.constant(np.array([3.,7., 10.,]))\n",
        "J"
      ]
    },
    {
      "cell_type": "code",
      "source": [
        "#Convert tensor J into a Numpy array\n",
        "np.array(J), type(np.array(J))"
      ],
      "metadata": {
        "colab": {
          "base_uri": "https://localhost:8080/"
        },
        "id": "qDouAApBxeXZ",
        "outputId": "01a781dd-313a-4cb0-9094-47cf3e8f4001"
      },
      "execution_count": 4,
      "outputs": [
        {
          "output_type": "execute_result",
          "data": {
            "text/plain": [
              "(array([ 3.,  7., 10.]), numpy.ndarray)"
            ]
          },
          "metadata": {},
          "execution_count": 4
        }
      ]
    },
    {
      "cell_type": "code",
      "source": [
        "#Alternative way of converting a tensor to a numpy array\n",
        "J.numpy(), type(J.numpy())"
      ],
      "metadata": {
        "colab": {
          "base_uri": "https://localhost:8080/"
        },
        "id": "7hbtC1uux11G",
        "outputId": "1eaaeff1-c29f-455b-b73a-7d8e6707eaba"
      },
      "execution_count": 5,
      "outputs": [
        {
          "output_type": "execute_result",
          "data": {
            "text/plain": [
              "(array([ 3.,  7., 10.]), numpy.ndarray)"
            ]
          },
          "metadata": {},
          "execution_count": 5
        }
      ]
    },
    {
      "cell_type": "code",
      "source": [
        "J.numpy()[2] #gives access to the element at position 2\n"
      ],
      "metadata": {
        "colab": {
          "base_uri": "https://localhost:8080/"
        },
        "id": "4B3XuF13yInR",
        "outputId": "b292554e-e3fb-406f-cee9-f4b6296bff02"
      },
      "execution_count": 6,
      "outputs": [
        {
          "output_type": "execute_result",
          "data": {
            "text/plain": [
              "10.0"
            ]
          },
          "metadata": {},
          "execution_count": 6
        }
      ]
    },
    {
      "cell_type": "code",
      "source": [
        "#The default types of each are slightly different\n",
        "numpy_J = tf.constant(np.array([3.,5., 9.]))\n",
        "tensor_J = tf.constant([3.,5., 9.])\n",
        "\n",
        "#check the data types of each\n",
        "numpy_J.dtype, tensor_J.dtype"
      ],
      "metadata": {
        "colab": {
          "base_uri": "https://localhost:8080/"
        },
        "id": "MfIxUUwly_n4",
        "outputId": "63fb52a4-eb18-4185-ba83-92ebf8b402c5"
      },
      "execution_count": 7,
      "outputs": [
        {
          "output_type": "execute_result",
          "data": {
            "text/plain": [
              "(tf.float64, tf.float32)"
            ]
          },
          "metadata": {},
          "execution_count": 7
        }
      ]
    },
    {
      "cell_type": "markdown",
      "source": [
        "##Finding Access to GPUs\n",
        "\n",
        "* Using **tf.config.list_physical_devices** - to return a list of physical devices visible to the host runtime\n",
        "*To access a free GPU/TPU - go to the **Runtime menu**and choose **Change Runtime type**"
      ],
      "metadata": {
        "id": "YKYnyAldO4F3"
      }
    },
    {
      "cell_type": "code",
      "source": [
        "#using tf.config to find list of accessible devices\n",
        "tf.config.list_physical_devices()"
      ],
      "metadata": {
        "colab": {
          "base_uri": "https://localhost:8080/"
        },
        "id": "Hnxe2spgP7WA",
        "outputId": "7e68d840-9d65-4dff-c16f-fb35f9385e35"
      },
      "execution_count": 10,
      "outputs": [
        {
          "output_type": "execute_result",
          "data": {
            "text/plain": [
              "[PhysicalDevice(name='/physical_device:CPU:0', device_type='CPU'),\n",
              " PhysicalDevice(name='/physical_device:GPU:0', device_type='GPU')]"
            ]
          },
          "metadata": {},
          "execution_count": 10
        }
      ]
    },
    {
      "cell_type": "code",
      "source": [
        "tf.config.list_physical_devices(\"GPU\") # currently shows no access to GPU"
      ],
      "metadata": {
        "colab": {
          "base_uri": "https://localhost:8080/"
        },
        "id": "7WMFEkq_QVF0",
        "outputId": "81f448e8-89a9-410c-da5e-4ca8dadba000"
      },
      "execution_count": 11,
      "outputs": [
        {
          "output_type": "execute_result",
          "data": {
            "text/plain": [
              "[PhysicalDevice(name='/physical_device:GPU:0', device_type='GPU')]"
            ]
          },
          "metadata": {},
          "execution_count": 11
        }
      ]
    },
    {
      "cell_type": "code",
      "source": [
        "#checking the type of GPU\n",
        "!nvidia-smi"
      ],
      "metadata": {
        "colab": {
          "base_uri": "https://localhost:8080/"
        },
        "id": "_Q6NBXj4R61B",
        "outputId": "38829440-8614-432a-80c1-7fdcc766ada2"
      },
      "execution_count": 13,
      "outputs": [
        {
          "output_type": "stream",
          "name": "stdout",
          "text": [
            "Mon Mar 20 13:49:39 2023       \n",
            "+-----------------------------------------------------------------------------+\n",
            "| NVIDIA-SMI 525.85.12    Driver Version: 525.85.12    CUDA Version: 12.0     |\n",
            "|-------------------------------+----------------------+----------------------+\n",
            "| GPU  Name        Persistence-M| Bus-Id        Disp.A | Volatile Uncorr. ECC |\n",
            "| Fan  Temp  Perf  Pwr:Usage/Cap|         Memory-Usage | GPU-Util  Compute M. |\n",
            "|                               |                      |               MIG M. |\n",
            "|===============================+======================+======================|\n",
            "|   0  Tesla T4            Off  | 00000000:00:04.0 Off |                    0 |\n",
            "| N/A   47C    P0    28W /  70W |    341MiB / 15360MiB |      0%      Default |\n",
            "|                               |                      |                  N/A |\n",
            "+-------------------------------+----------------------+----------------------+\n",
            "                                                                               \n",
            "+-----------------------------------------------------------------------------+\n",
            "| Processes:                                                                  |\n",
            "|  GPU   GI   CI        PID   Type   Process name                  GPU Memory |\n",
            "|        ID   ID                                                   Usage      |\n",
            "|=============================================================================|\n",
            "+-----------------------------------------------------------------------------+\n"
          ]
        }
      ]
    },
    {
      "cell_type": "markdown",
      "source": [
        "**Note: ** If you have access to CUDA enabled GPU, Tensorflow will automatically use it whenever possible"
      ],
      "metadata": {
        "id": "_MieJ2rkSYIS"
      }
    }
  ]
}