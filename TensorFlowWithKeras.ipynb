{
  "nbformat": 4,
  "nbformat_minor": 0,
  "metadata": {
    "colab": {
      "provenance": [],
      "authorship_tag": "ABX9TyO2VUmsgJWwZ2XR+Cem44c9",
      "include_colab_link": true
    },
    "kernelspec": {
      "name": "python3",
      "display_name": "Python 3"
    },
    "language_info": {
      "name": "python"
    },
    "accelerator": "GPU",
    "gpuClass": "standard"
  },
  "cells": [
    {
      "cell_type": "markdown",
      "metadata": {
        "id": "view-in-github",
        "colab_type": "text"
      },
      "source": [
        "<a href=\"https://colab.research.google.com/github/f-ssemwanga/MachineLearning_DeepLearning/blob/main/TensorFlowWithKeras.ipynb\" target=\"_parent\"><img src=\"https://colab.research.google.com/assets/colab-badge.svg\" alt=\"Open In Colab\"/></a>"
      ]
    },
    {
      "cell_type": "markdown",
      "source": [
        "###TensorFlow and Keras\n",
        "\n",
        "[SOURCE](https://www.tensorflow.org/tutorials/quickstart/beginner)"
      ],
      "metadata": {
        "id": "irKOrQxcC9Ve"
      }
    },
    {
      "cell_type": "code",
      "execution_count": 2,
      "metadata": {
        "colab": {
          "base_uri": "https://localhost:8080/"
        },
        "id": "sa6S_OpIC2VT",
        "outputId": "719c580a-f9dc-44c3-9f84-4e59f53e4ee8"
      },
      "outputs": [
        {
          "output_type": "stream",
          "name": "stdout",
          "text": [
            "TensorFlow version: 2.11.0\n"
          ]
        }
      ],
      "source": [
        "#Setting up\n",
        "import tensorflow as tf\n",
        "print(f'TensorFlow version: {tf.__version__}')"
      ]
    },
    {
      "cell_type": "markdown",
      "source": [
        "**Load Dataset**\n",
        "\n",
        "Load and prepare the [MNIST dataset](http://yann.lecun.com/exdb/mnist/) - Pixel values of images range from 0 through 255.  Scale these values to a range of 0 to 1 by dividing the values by 255.0.  This also converts the sample data from integers to floating-point numbers:"
      ],
      "metadata": {
        "id": "375R31lMELaw"
      }
    },
    {
      "cell_type": "code",
      "source": [
        "mnist = tf.keras.datasets.mnist\n",
        "(x_train, y_train),(x_test, y_test) = mnist.load_data()\n",
        "x_train, x_test = x_train /255.0, x_test /255.0\n"
      ],
      "metadata": {
        "colab": {
          "base_uri": "https://localhost:8080/"
        },
        "id": "XjCmkl6kHGys",
        "outputId": "13f69e54-0611-41a9-dbf0-0c64dac5ac74"
      },
      "execution_count": 3,
      "outputs": [
        {
          "output_type": "stream",
          "name": "stdout",
          "text": [
            "Downloading data from https://storage.googleapis.com/tensorflow/tf-keras-datasets/mnist.npz\n",
            "11490434/11490434 [==============================] - 0s 0us/step\n"
          ]
        }
      ]
    },
    {
      "cell_type": "markdown",
      "source": [
        "**Build a machine Learning Model**\n",
        "Build a tf.keras.Sequential model:\n",
        "* ***Keras Sequential Model*** is a linear stack of layers that are used to build a neural network.  \n",
        "* In a sequential model each layer in the network is connected to the next layer forming a chain of layers from the input to the output of the model. \n",
        "* Used for feedforward neural networks where theinput data flows in one direction through the network. \n",
        "* Suitable for image classification and text analysis."
      ],
      "metadata": {
        "id": "ENTlLVK9JjCb"
      }
    },
    {
      "cell_type": "code",
      "source": [
        "model = tf.keras.models.Sequential([\n",
        "    tf.keras.layers.Flatten(input_shape=(28,28)),\n",
        "    tf.keras.layers.Dense(128, activation=\"relu\"),\n",
        "    tf.keras.layers.Dropout(0.2), \n",
        "    tf.keras.layers.Dense(10)\n",
        "])"
      ],
      "metadata": {
        "id": "k8grZ0IDJbaW"
      },
      "execution_count": 4,
      "outputs": []
    },
    {
      "cell_type": "markdown",
      "source": [
        "* **Sequential** is used for stacking layers where each layer has one input tensor and one output tensor\n",
        "* Layers are functions with a know mathematical structure that can be reused  and have trainable variables.  Most TensorFlow models are composed of layers.  The model above used [Flatten](https://www.tensorflow.org/api_docs/python/tf/keras/layers/Flatten), [Dense](https://www.tensorflow.org/api_docs/python/tf/keras/layers/Dense), and [Dropout](https://www.tensorflow.org/api_docs/python/tf/keras/layers/Dropout) layers.\n",
        "* For each example the model returns a vector of [logits](https://developers.google.com/machine-learning/glossary#logits) or [log-odds](https://developers.google.com/machine-learning/glossary#log-odds)"
      ],
      "metadata": {
        "id": "iewlZIp_LiMv"
      }
    },
    {
      "cell_type": "code",
      "source": [
        "predictions =model(x_train[:1]).numpy()\n",
        "predictions"
      ],
      "metadata": {
        "colab": {
          "base_uri": "https://localhost:8080/"
        },
        "id": "SGnDp40ZNq6-",
        "outputId": "80e97df9-7c1d-43a7-c622-289c56493a40"
      },
      "execution_count": 5,
      "outputs": [
        {
          "output_type": "execute_result",
          "data": {
            "text/plain": [
              "array([[-0.11733136,  0.16989997, -0.49315876,  0.06540883,  0.00071771,\n",
              "        -0.01558959,  0.46234107,  0.09897655,  0.5232191 ,  0.20203167]],\n",
              "      dtype=float32)"
            ]
          },
          "metadata": {},
          "execution_count": 5
        }
      ]
    },
    {
      "cell_type": "markdown",
      "source": [
        "The [tf.nn.softmax](https://www.tensorflow.org/api_docs/python/tf/nn/softmax) function converts the logits to probabilities for each class:"
      ],
      "metadata": {
        "id": "JUF7KFevOUT_"
      }
    },
    {
      "cell_type": "code",
      "source": [
        "#convert the predictions method into a tensor and then pass it to softmax\n",
        "tf.nn.softmax(predictions).numpy()"
      ],
      "metadata": {
        "colab": {
          "base_uri": "https://localhost:8080/"
        },
        "id": "kSBvIRYyOlPl",
        "outputId": "3cfb0a0e-0796-4076-cdad-9b5a80fafd41"
      },
      "execution_count": 6,
      "outputs": [
        {
          "output_type": "execute_result",
          "data": {
            "text/plain": [
              "array([[0.07841251, 0.10450291, 0.05384751, 0.09413442, 0.08823755,\n",
              "        0.0868103 , 0.1400019 , 0.09734792, 0.14878972, 0.10791529]],\n",
              "      dtype=float32)"
            ]
          },
          "metadata": {},
          "execution_count": 6
        }
      ]
    },
    {
      "cell_type": "markdown",
      "source": [
        "##Define a lost function for training using\n",
        "\n",
        "[losses.SparseCategoricalCrossentropy:](https://www.tensorflow.org/api_docs/python/tf/keras/losses/SparseCategoricalCrossentropy)\n"
      ],
      "metadata": {
        "id": "ff_fo_mYSScU"
      }
    },
    {
      "cell_type": "code",
      "source": [
        "loss_fn=tf.keras.losses.SparseCategoricalCrossentropy(from_logits=True)\n"
      ],
      "metadata": {
        "id": "mI-pP-nxSpGQ"
      },
      "execution_count": 7,
      "outputs": []
    },
    {
      "cell_type": "markdown",
      "source": [
        "* The loss function takes a vector of ground truth values and a vecor of logits and returns a scalar loss for each example.  THis loss is eequal to the negative log probability of the true class: The loss is zero if the model is sure of the correct class\n",
        "* This untrained model gives probabilities close to random (1/10) for each class, so the initial loss should close to tf.math.log(1/10) ~=2.3"
      ],
      "metadata": {
        "id": "EYJfh18XTzNQ"
      }
    },
    {
      "cell_type": "code",
      "source": [
        "loss_fn(y_train[:1], predictions).numpy()"
      ],
      "metadata": {
        "colab": {
          "base_uri": "https://localhost:8080/"
        },
        "id": "o2JIe7L8T5q_",
        "outputId": "59f1e0ed-dbc3-4f45-9dac-bb70fdd6c573"
      },
      "execution_count": 8,
      "outputs": [
        {
          "output_type": "execute_result",
          "data": {
            "text/plain": [
              "2.44403"
            ]
          },
          "metadata": {},
          "execution_count": 8
        }
      ]
    },
    {
      "cell_type": "markdown",
      "source": [
        "* Before training the model, configure and compile the model using keras [model compile](https://www.tensorflow.org/api_docs/python/tf/keras/Model#compile)\n",
        "* Set the [optimiser](https://www.tensorflow.org/api_docs/python/tf/keras/optimizers) class to **adam**, set the **loss** to the **loss_fn** function you defined earlier, and specify a metric to be evaluated for the model by setting the **metrics** parrameter to **accuracy**"
      ],
      "metadata": {
        "id": "PbC68_SvYglA"
      }
    },
    {
      "cell_type": "code",
      "source": [
        "model.compile(optimizer=\"adam\", loss=loss_fn, metrics=['accuracy'])"
      ],
      "metadata": {
        "id": "qIuN8oBJaIA_"
      },
      "execution_count": 13,
      "outputs": []
    },
    {
      "cell_type": "markdown",
      "source": [
        "###***Train and evaluate your model***\n",
        "Use the [Model.fit](https://www.tensorflow.org/api_docs/python/tf/keras/Model#fit) method to adjust your model parameters and miminise the loss:"
      ],
      "metadata": {
        "id": "Sf1ZoKMgbl4H"
      }
    },
    {
      "cell_type": "code",
      "source": [
        "model.fit(x_train, y_train, epochs=5)\n",
        "#epochs are the iterations"
      ],
      "metadata": {
        "colab": {
          "base_uri": "https://localhost:8080/"
        },
        "id": "mUqVWJPHbzV2",
        "outputId": "178ed622-b319-44e9-db68-c24c470c3b9e"
      },
      "execution_count": 14,
      "outputs": [
        {
          "output_type": "stream",
          "name": "stdout",
          "text": [
            "Epoch 1/5\n",
            "1875/1875 [==============================] - 5s 2ms/step - loss: 0.2446 - accuracy: 0.9278\n",
            "Epoch 2/5\n",
            "1875/1875 [==============================] - 5s 3ms/step - loss: 0.1363 - accuracy: 0.9594\n",
            "Epoch 3/5\n",
            "1875/1875 [==============================] - 5s 2ms/step - loss: 0.1043 - accuracy: 0.9682\n",
            "Epoch 4/5\n",
            "1875/1875 [==============================] - 5s 3ms/step - loss: 0.0858 - accuracy: 0.9726\n",
            "Epoch 5/5\n",
            "1875/1875 [==============================] - 5s 3ms/step - loss: 0.0733 - accuracy: 0.9767\n"
          ]
        },
        {
          "output_type": "execute_result",
          "data": {
            "text/plain": [
              "<keras.callbacks.History at 0x7f21a81c3c70>"
            ]
          },
          "metadata": {},
          "execution_count": 14
        }
      ]
    },
    {
      "cell_type": "code",
      "source": [],
      "metadata": {
        "id": "0Q5PqgANeBxZ"
      },
      "execution_count": 10,
      "outputs": []
    }
  ]
}