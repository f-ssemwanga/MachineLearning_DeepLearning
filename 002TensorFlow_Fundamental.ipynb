{
  "nbformat": 4,
  "nbformat_minor": 0,
  "metadata": {
    "colab": {
      "provenance": [],
      "authorship_tag": "ABX9TyODPtKrsbHPeNhus5cY4mZb",
      "include_colab_link": true
    },
    "kernelspec": {
      "name": "python3",
      "display_name": "Python 3"
    },
    "language_info": {
      "name": "python"
    }
  },
  "cells": [
    {
      "cell_type": "markdown",
      "metadata": {
        "id": "view-in-github",
        "colab_type": "text"
      },
      "source": [
        "<a href=\"https://colab.research.google.com/github/f-ssemwanga/MachineLearning_DeepLearning/blob/main/002TensorFlow_Fundamental.ipynb\" target=\"_parent\"><img src=\"https://colab.research.google.com/assets/colab-badge.svg\" alt=\"Open In Colab\"/></a>"
      ]
    },
    {
      "cell_type": "markdown",
      "source": [
        "##Manipulating Tensors (tensor operations)\n",
        "***Basic Operations***\n",
        "\n",
        "These are the basic arithmetic operators (+,-,*,/)"
      ],
      "metadata": {
        "id": "nZ8vbFEVbfNb"
      }
    },
    {
      "cell_type": "code",
      "execution_count": 13,
      "metadata": {
        "colab": {
          "base_uri": "https://localhost:8080/"
        },
        "id": "1ecxz5rLbOGb",
        "outputId": "bd2fc7ec-f6fb-4507-938b-a7dc85189f21"
      },
      "outputs": [
        {
          "output_type": "stream",
          "name": "stdout",
          "text": [
            "Original tensor before operation: [[10  7]\n",
            " [ 3  4]]\n",
            " Tensor after addition operation: [[20 17]\n",
            " [13 14]]\n",
            "Original tensor before operation: [[10  7]\n",
            " [ 3  4]]\n"
          ]
        }
      ],
      "source": [
        "import tensorflow as tf\n",
        "\n",
        "#You can add values to a tensor using the additon Operators\n",
        "#Note that the original tensor is unchanged.\n",
        "tensor1 = tf.constant([[10,7],[3,4]])\n",
        "print(f'Original tensor before operation: {tensor1}')\n",
        "print(f' Tensor after addition operation: {tensor1 +10}')\n",
        "print(f'Original tensor before operation: {tensor1}')\n"
      ]
    },
    {
      "cell_type": "code",
      "source": [
        "#performing an increment operation on the original tensor alters the original tensor\n",
        "tensor2 = tensor1 +10\n",
        "print(f'Original tensor before operation: {tensor2}')\n"
      ],
      "metadata": {
        "colab": {
          "base_uri": "https://localhost:8080/"
        },
        "id": "R6uHx8jNd456",
        "outputId": "a079eee6-77d2-40ca-bd30-afaf9cc8eced"
      },
      "execution_count": 14,
      "outputs": [
        {
          "output_type": "stream",
          "name": "stdout",
          "text": [
            "Original tensor before operation: [[20 17]\n",
            " [13 14]]\n"
          ]
        }
      ]
    },
    {
      "cell_type": "code",
      "source": [
        "#Multiplication operation\n",
        "print(f'Original tensor before operation: {tensor1}')\n",
        "print(f' Tensor after addition operation: {tensor1*10}')\n",
        "print(f'Original tensor before operation: {tensor1}')"
      ],
      "metadata": {
        "colab": {
          "base_uri": "https://localhost:8080/"
        },
        "id": "uJ3qEpN9eM2K",
        "outputId": "e234a3e5-26a9-49b6-fabd-8aec516998bf"
      },
      "execution_count": 15,
      "outputs": [
        {
          "output_type": "stream",
          "name": "stdout",
          "text": [
            "Original tensor before operation: [[10  7]\n",
            " [ 3  4]]\n",
            " Tensor after addition operation: [[100  70]\n",
            " [ 30  40]]\n",
            "Original tensor before operation: [[10  7]\n",
            " [ 3  4]]\n"
          ]
        }
      ]
    },
    {
      "cell_type": "code",
      "source": [
        "#Subtraction operation\n",
        "print(f'Original tensor before operation: {tensor1}')\n",
        "print(f' Tensor after addition operation: {tensor1-10}')\n",
        "print(f'Original tensor before operation: {tensor1}')"
      ],
      "metadata": {
        "colab": {
          "base_uri": "https://localhost:8080/"
        },
        "id": "VEO6mBx3fGBi",
        "outputId": "f6104445-2d08-401b-e4c7-9f612bacdcf4"
      },
      "execution_count": 16,
      "outputs": [
        {
          "output_type": "stream",
          "name": "stdout",
          "text": [
            "Original tensor before operation: [[10  7]\n",
            " [ 3  4]]\n",
            " Tensor after addition operation: [[ 0 -3]\n",
            " [-7 -6]]\n",
            "Original tensor before operation: [[10  7]\n",
            " [ 3  4]]\n"
          ]
        }
      ]
    },
    {
      "cell_type": "code",
      "source": [
        "#We can use the tensorflow built in functions too\n",
        "#the qualified function is tf.math.multiply but we can do the alias which is tf.multiply\n",
        "#GPU will be faster if you use built in functions\n",
        "print(f' Tensor after addition operation: {tf.multiply(tensor1,10)}')"
      ],
      "metadata": {
        "colab": {
          "base_uri": "https://localhost:8080/"
        },
        "id": "Relq0Eh6fNaA",
        "outputId": "ebc1f4c4-0411-4056-9538-817cbbd65fee"
      },
      "execution_count": 18,
      "outputs": [
        {
          "output_type": "stream",
          "name": "stdout",
          "text": [
            " Tensor after addition operation: [[100  70]\n",
            " [ 30  40]]\n"
          ]
        }
      ]
    },
    {
      "cell_type": "markdown",
      "source": [
        "tf.math.add(tensor1,5)"
      ],
      "metadata": {
        "id": "jwFxT_R-gY_l"
      }
    }
  ]
}