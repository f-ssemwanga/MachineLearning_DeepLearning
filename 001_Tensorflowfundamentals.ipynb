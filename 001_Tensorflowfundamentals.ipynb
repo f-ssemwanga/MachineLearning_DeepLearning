{
  "nbformat": 4,
  "nbformat_minor": 0,
  "metadata": {
    "colab": {
      "provenance": [],
      "toc_visible": true,
      "authorship_tag": "ABX9TyNZXvs0Tvb03vDbxPxeR/ek",
      "include_colab_link": true
    },
    "kernelspec": {
      "name": "python3",
      "display_name": "Python 3"
    },
    "language_info": {
      "name": "python"
    }
  },
  "cells": [
    {
      "cell_type": "markdown",
      "metadata": {
        "id": "view-in-github",
        "colab_type": "text"
      },
      "source": [
        "<a href=\"https://colab.research.google.com/github/f-ssemwanga/MachineLearning_DeepLearning/blob/main/001_Tensorflowfundamentals.ipynb\" target=\"_parent\"><img src=\"https://colab.research.google.com/assets/colab-badge.svg\" alt=\"Open In Colab\"/></a>"
      ]
    },
    {
      "cell_type": "markdown",
      "source": [
        "#fundamental concepts of tensors in tensorflow\n",
        "- introduction to tensors\n",
        "- getting information from tensors\n",
        "- changing info in tensors\n",
        "- tensors and NUMpy\n",
        "- using @tf.functions  (speeds up regular python functions)\n",
        "- using GPUs and TensorFlow ( or TPUs)\n",
        "- Exercises"
      ],
      "metadata": {
        "id": "YC5HkRcacdC1"
      }
    },
    {
      "cell_type": "markdown",
      "source": [
        "#Introduction to tensors using tf.constant"
      ],
      "metadata": {
        "id": "Yx_3qb1zd1SF"
      }
    },
    {
      "cell_type": "code",
      "source": [
        "#import TensorFlow\n",
        "import tensorflow as tf\n",
        "print(tf.__version__)"
      ],
      "metadata": {
        "colab": {
          "base_uri": "https://localhost:8080/"
        },
        "id": "wFWUzANhc_d-",
        "outputId": "0bb7c2ab-f1fd-495e-91b8-b97e234f5fa5"
      },
      "execution_count": null,
      "outputs": [
        {
          "output_type": "stream",
          "name": "stdout",
          "text": [
            "2.11.0\n"
          ]
        }
      ]
    },
    {
      "cell_type": "code",
      "source": [
        "#Creating tensors with tf.constant()\n",
        "scalar = tf.constant(7)\n",
        "scalar"
      ],
      "metadata": {
        "colab": {
          "base_uri": "https://localhost:8080/"
        },
        "id": "P0rkHiD_eUIf",
        "outputId": "3c3a7490-f24c-4574-9678-9a8872114e07"
      },
      "execution_count": null,
      "outputs": [
        {
          "output_type": "execute_result",
          "data": {
            "text/plain": [
              "<tf.Tensor: shape=(), dtype=int32, numpy=7>"
            ]
          },
          "metadata": {},
          "execution_count": 2
        }
      ]
    },
    {
      "cell_type": "code",
      "source": [
        "#check number of dimension (ndim stands for number of dimensions)\n",
        "scalar.ndim  # returns 0 because the shape attribute is shape()"
      ],
      "metadata": {
        "colab": {
          "base_uri": "https://localhost:8080/"
        },
        "id": "YIFCXpS6e147",
        "outputId": "80c61273-8a78-43b4-e1e4-3423e6fba558"
      },
      "execution_count": null,
      "outputs": [
        {
          "output_type": "execute_result",
          "data": {
            "text/plain": [
              "0"
            ]
          },
          "metadata": {},
          "execution_count": 3
        }
      ]
    },
    {
      "cell_type": "code",
      "source": [
        "#create a vector\n",
        "vector = tf.constant([10, 10])\n",
        "vector"
      ],
      "metadata": {
        "colab": {
          "base_uri": "https://localhost:8080/"
        },
        "id": "XR_xjC9dfIwu",
        "outputId": "5db416ac-13fc-41b1-eae5-6db4ab5c25b9"
      },
      "execution_count": null,
      "outputs": [
        {
          "output_type": "execute_result",
          "data": {
            "text/plain": [
              "<tf.Tensor: shape=(2,), dtype=int32, numpy=array([10, 10], dtype=int32)>"
            ]
          },
          "metadata": {},
          "execution_count": 4
        }
      ]
    },
    {
      "cell_type": "code",
      "source": [
        "#check dimension of the vector\n",
        "vector.ndim # look at the tuple in the shape of the vector above - it has one item"
      ],
      "metadata": {
        "colab": {
          "base_uri": "https://localhost:8080/"
        },
        "id": "B2uzlKuRfena",
        "outputId": "800de617-a15e-44fd-abd5-5d18afdbc5ba"
      },
      "execution_count": null,
      "outputs": [
        {
          "output_type": "execute_result",
          "data": {
            "text/plain": [
              "1"
            ]
          },
          "metadata": {},
          "execution_count": 5
        }
      ]
    },
    {
      "cell_type": "code",
      "source": [
        "#create a matric ( has more than one dimension)\n",
        "matrix = tf.constant([\n",
        "    [10,7],\n",
        "    [7,10]\n",
        "])\n",
        "matrix"
      ],
      "metadata": {
        "colab": {
          "base_uri": "https://localhost:8080/"
        },
        "id": "G4z6nai4fqoV",
        "outputId": "82d1c92b-c740-4d1d-e48f-423c1181fdf3"
      },
      "execution_count": null,
      "outputs": [
        {
          "output_type": "execute_result",
          "data": {
            "text/plain": [
              "<tf.Tensor: shape=(2, 2), dtype=int32, numpy=\n",
              "array([[10,  7],\n",
              "       [ 7, 10]], dtype=int32)>"
            ]
          },
          "metadata": {},
          "execution_count": 6
        }
      ]
    },
    {
      "cell_type": "code",
      "source": [
        "matrix.ndim"
      ],
      "metadata": {
        "colab": {
          "base_uri": "https://localhost:8080/"
        },
        "id": "oXZQQ5mNgbq3",
        "outputId": "eb075488-28bf-4632-99de-7bb8a1d353fc"
      },
      "execution_count": null,
      "outputs": [
        {
          "output_type": "execute_result",
          "data": {
            "text/plain": [
              "2"
            ]
          },
          "metadata": {},
          "execution_count": 7
        }
      ]
    },
    {
      "cell_type": "code",
      "source": [
        "#create another matrix\n",
        "another_matrix =tf.constant([\n",
        "    [10.,7.],\n",
        "    [3.,2.],\n",
        "    [8.,9,]],dtype=tf.float16) \n",
        "'''\n",
        " specify the float data type - the higher the numer in dtype the lower the precision but less\n",
        " data is stored, the higher the number e.g. float32 the higher the precision but the larger \n",
        " the data'''\n",
        "another_matrix"
      ],
      "metadata": {
        "colab": {
          "base_uri": "https://localhost:8080/"
        },
        "id": "7cjIpIGughBg",
        "outputId": "08ac5de5-de8d-471a-a91f-f8f22b380252"
      },
      "execution_count": null,
      "outputs": [
        {
          "output_type": "execute_result",
          "data": {
            "text/plain": [
              "<tf.Tensor: shape=(3, 2), dtype=float16, numpy=\n",
              "array([[10.,  7.],\n",
              "       [ 3.,  2.],\n",
              "       [ 8.,  9.]], dtype=float16)>"
            ]
          },
          "metadata": {},
          "execution_count": 9
        }
      ]
    },
    {
      "cell_type": "code",
      "source": [
        "#What is the number of dimensions of another_matrix?\n",
        "another_matrix.ndim"
      ],
      "metadata": {
        "colab": {
          "base_uri": "https://localhost:8080/"
        },
        "id": "Mp-PSiZ3iMl2",
        "outputId": "c65159d6-698a-48d0-8d76-dcd9b0757417"
      },
      "execution_count": null,
      "outputs": [
        {
          "output_type": "execute_result",
          "data": {
            "text/plain": [
              "2"
            ]
          },
          "metadata": {},
          "execution_count": 10
        }
      ]
    },
    {
      "cell_type": "code",
      "source": [
        "#Increasing a number of dimensions\n",
        "'''\n",
        "Scaler = 1 dimension\n",
        "Matrix = 2 dimensions\n",
        "Tensor  = multi dimension ???\n",
        "'''\n",
        "#Creating a Tensor\n",
        "tensor = tf.constant([[[1,2,3],\n",
        "                        [4,5,6]],\n",
        "                      [[7,8,9],\n",
        "                        [10,11,12]],\n",
        "                    [[13,14,15],\n",
        "                      [16,17,18]]])\n",
        "tensor"
      ],
      "metadata": {
        "colab": {
          "base_uri": "https://localhost:8080/"
        },
        "id": "_u396kiljseU",
        "outputId": "c6a5ab59-5c68-4175-e5d9-e2c95ba86dda"
      },
      "execution_count": null,
      "outputs": [
        {
          "output_type": "execute_result",
          "data": {
            "text/plain": [
              "<tf.Tensor: shape=(3, 2, 3), dtype=int32, numpy=\n",
              "array([[[ 1,  2,  3],\n",
              "        [ 4,  5,  6]],\n",
              "\n",
              "       [[ 7,  8,  9],\n",
              "        [10, 11, 12]],\n",
              "\n",
              "       [[13, 14, 15],\n",
              "        [16, 17, 18]]], dtype=int32)>"
            ]
          },
          "metadata": {},
          "execution_count": 12
        }
      ]
    },
    {
      "cell_type": "code",
      "source": [
        "#What is the dimensions of a tensor?\n",
        "tensor.ndim\n",
        "#"
      ],
      "metadata": {
        "colab": {
          "base_uri": "https://localhost:8080/"
        },
        "id": "cw_tK_lgk3ZV",
        "outputId": "5599daca-f57d-4a0f-9024-01df648c63c3"
      },
      "execution_count": null,
      "outputs": [
        {
          "output_type": "execute_result",
          "data": {
            "text/plain": [
              "3"
            ]
          },
          "metadata": {},
          "execution_count": 13
        }
      ]
    },
    {
      "cell_type": "markdown",
      "source": [
        "#Summary Definitions\n",
        "* Scalar: a single number\n",
        "* Vector: a number with direction e.g. (wind speed and direction\n",
        "* Matrix a 2D array of numbers\n",
        "* Tensor is an n-dimesional array of numbers"
      ],
      "metadata": {
        "id": "2jIKrnQcm0lE"
      }
    },
    {
      "cell_type": "markdown",
      "source": [
        "#Creating Tensors using `tf.variable`"
      ],
      "metadata": {
        "id": "b0fNwg9Onylh"
      }
    },
    {
      "cell_type": "code",
      "source": [
        "#create same tensors using tf variable\n",
        "changeable_tensor = tf.Variable([10,7])\n",
        "unchangeable_tensor = tf.constant([10,7])\n",
        "\n",
        "changeable_tensor , unchangeable_tensor"
      ],
      "metadata": {
        "colab": {
          "base_uri": "https://localhost:8080/"
        },
        "id": "n6of9Wlhtzjl",
        "outputId": "6e5a9d68-4bab-46fa-ee5f-3c6d3b4f3a01"
      },
      "execution_count": null,
      "outputs": [
        {
          "output_type": "execute_result",
          "data": {
            "text/plain": [
              "(<tf.Variable 'Variable:0' shape=(2,) dtype=int32, numpy=array([10,  7], dtype=int32)>,\n",
              " <tf.Tensor: shape=(2,), dtype=int32, numpy=array([10,  7], dtype=int32)>)"
            ]
          },
          "metadata": {},
          "execution_count": 14
        }
      ]
    },
    {
      "cell_type": "code",
      "source": [
        "#changing one of the elements in the changeable tensor\n",
        "changeable_tensor[0] = 7"
      ],
      "metadata": {
        "colab": {
          "base_uri": "https://localhost:8080/",
          "height": 183
        },
        "id": "Cpjr_CNwu7vn",
        "outputId": "791a4f52-755f-415d-b907-d2bb062b07ab"
      },
      "execution_count": null,
      "outputs": [
        {
          "output_type": "error",
          "ename": "TypeError",
          "evalue": "ignored",
          "traceback": [
            "\u001b[0;31m---------------------------------------------------------------------------\u001b[0m",
            "\u001b[0;31mTypeError\u001b[0m                                 Traceback (most recent call last)",
            "\u001b[0;32m<ipython-input-15-eab5978481f8>\u001b[0m in \u001b[0;36m<module>\u001b[0;34m\u001b[0m\n\u001b[1;32m      1\u001b[0m \u001b[0;31m#changing one of the elements in the changeable tensor\u001b[0m\u001b[0;34m\u001b[0m\u001b[0;34m\u001b[0m\u001b[0m\n\u001b[0;32m----> 2\u001b[0;31m \u001b[0mchangeable_tensor\u001b[0m\u001b[0;34m[\u001b[0m\u001b[0;36m0\u001b[0m\u001b[0;34m]\u001b[0m \u001b[0;34m=\u001b[0m \u001b[0;36m7\u001b[0m\u001b[0;34m\u001b[0m\u001b[0;34m\u001b[0m\u001b[0m\n\u001b[0m",
            "\u001b[0;31mTypeError\u001b[0m: 'ResourceVariable' object does not support item assignment"
          ]
        }
      ]
    },
    {
      "cell_type": "code",
      "source": [
        "#using .assign()\n",
        "changeable_tensor[0].assign(7)\n",
        "changeable_tensor"
      ],
      "metadata": {
        "colab": {
          "base_uri": "https://localhost:8080/"
        },
        "id": "KOzyxkuSvP7N",
        "outputId": "76cdb3b5-0471-4a92-d76a-415010749c33"
      },
      "execution_count": null,
      "outputs": [
        {
          "output_type": "execute_result",
          "data": {
            "text/plain": [
              "<tf.Variable 'Variable:0' shape=(2,) dtype=int32, numpy=array([7, 7], dtype=int32)>"
            ]
          },
          "metadata": {},
          "execution_count": 16
        }
      ]
    },
    {
      "cell_type": "markdown",
      "source": [
        "⚡Rarely in practice one needs to decide whether to use tf.constant or tf.Variable to create tensors as TensorFlow does this automatically.\n",
        "# Creating Random Tensors\n",
        "\n",
        "Random tensors are tensors\n",
        "\n",
        "##usage: \n",
        "When a neuro network intialises / starts to learn, it uses random weights / random tensors / random patterns on which it has been trained' it then learns from these to update / train the output to match the learning output"
      ],
      "metadata": {
        "id": "k4zmTk0NwIbj"
      }
    },
    {
      "cell_type": "code",
      "source": [
        "#create two random (but same) tensors\n",
        "random_1 = tf.random.Generator.from_seed(42) #set seed for reproducibility\n",
        "random_1 = random_1.normal(shape=(3,2))\n",
        "random_1\n",
        "\n",
        "random_2 = tf.random.Generator.from_seed(42)\n",
        "random_2 = random_2.normal(shape=(3,2))\n",
        "\n",
        "#check if the two tensors are equal\n",
        "random_1, random_2, random_1 ==random_2"
      ],
      "metadata": {
        "colab": {
          "base_uri": "https://localhost:8080/"
        },
        "id": "f2dbNvd3wtgq",
        "outputId": "272a3921-73fa-4f5a-d754-e9f7dc6a919a"
      },
      "execution_count": null,
      "outputs": [
        {
          "output_type": "execute_result",
          "data": {
            "text/plain": [
              "(<tf.Tensor: shape=(3, 2), dtype=float32, numpy=\n",
              " array([[-0.7565803 , -0.06854702],\n",
              "        [ 0.07595026, -1.2573844 ],\n",
              "        [-0.23193763, -1.8107855 ]], dtype=float32)>,\n",
              " <tf.Tensor: shape=(3, 2), dtype=float32, numpy=\n",
              " array([[-0.7565803 , -0.06854702],\n",
              "        [ 0.07595026, -1.2573844 ],\n",
              "        [-0.23193763, -1.8107855 ]], dtype=float32)>,\n",
              " <tf.Tensor: shape=(3, 2), dtype=bool, numpy=\n",
              " array([[ True,  True],\n",
              "        [ True,  True],\n",
              "        [ True,  True]])>)"
            ]
          },
          "metadata": {},
          "execution_count": 22
        }
      ]
    },
    {
      "cell_type": "markdown",
      "source": [
        "#Shuffle the order of elements in a tensor\n",
        "\n",
        "### usage:\n",
        "If the Tensors are not shuffled, the neuro network might adjust its learning to only the values its encountering however shuffling introduces randomness such that the inherent order doesn't affect learning"
      ],
      "metadata": {
        "id": "W3BL-sFZ5mQH"
      }
    },
    {
      "cell_type": "code",
      "source": [
        "#shuffle a tensor\n",
        "not_shuffled = tf.constant([[10,7],\n",
        "                           [3,4],\n",
        "                           [2,5]])\n",
        "not_shuffled.ndim\n",
        "#shuffle a non random tensor\n",
        "tf.random.shuffle(not_shuffled)"
      ],
      "metadata": {
        "colab": {
          "base_uri": "https://localhost:8080/"
        },
        "id": "Hd3268-G5ubF",
        "outputId": "d950a5af-0ceb-415e-f384-1c0ac8faa015"
      },
      "execution_count": null,
      "outputs": [
        {
          "output_type": "execute_result",
          "data": {
            "text/plain": [
              "<tf.Tensor: shape=(3, 2), dtype=int32, numpy=\n",
              "array([[ 2,  5],\n",
              "       [ 3,  4],\n",
              "       [10,  7]], dtype=int32)>"
            ]
          },
          "metadata": {},
          "execution_count": 27
        }
      ]
    },
    {
      "cell_type": "code",
      "source": [
        "not_shuffled"
      ],
      "metadata": {
        "colab": {
          "base_uri": "https://localhost:8080/"
        },
        "id": "MvIzM1QI8pxX",
        "outputId": "966e8b16-6d24-4db1-f0ad-9dbb5369bd55"
      },
      "execution_count": null,
      "outputs": [
        {
          "output_type": "execute_result",
          "data": {
            "text/plain": [
              "<tf.Tensor: shape=(3, 2), dtype=int32, numpy=\n",
              "array([[10,  7],\n",
              "       [ 3,  4],\n",
              "       [ 2,  5]], dtype=int32)>"
            ]
          },
          "metadata": {},
          "execution_count": 26
        }
      ]
    },
    {
      "cell_type": "markdown",
      "source": [
        "⏰**Exercise** Read through TensorFlow documentation on random seed generation:\n",
        "\n",
        "[Random Seed](https://www.tensorflow.org/api_docs/python/tf/random/set_seed) and practice writing 5 random tensors and shuffle them."
      ],
      "metadata": {
        "id": "ZknJLFmQ-aom"
      }
    },
    {
      "cell_type": "code",
      "source": [],
      "metadata": {
        "id": "3hEY0ush-tXk"
      },
      "execution_count": null,
      "outputs": []
    }
  ]
}