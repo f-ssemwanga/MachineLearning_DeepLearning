{
  "nbformat": 4,
  "nbformat_minor": 0,
  "metadata": {
    "colab": {
      "provenance": [],
      "authorship_tag": "ABX9TyNK8PEnluL/9UxcByL/iVlq",
      "include_colab_link": true
    },
    "kernelspec": {
      "name": "python3",
      "display_name": "Python 3"
    },
    "language_info": {
      "name": "python"
    }
  },
  "cells": [
    {
      "cell_type": "markdown",
      "metadata": {
        "id": "view-in-github",
        "colab_type": "text"
      },
      "source": [
        "<a href=\"https://colab.research.google.com/github/f-ssemwanga/MachineLearning_DeepLearning/blob/main/001_Tensorflowfundamentals.ipynb\" target=\"_parent\"><img src=\"https://colab.research.google.com/assets/colab-badge.svg\" alt=\"Open In Colab\"/></a>"
      ]
    },
    {
      "cell_type": "markdown",
      "source": [
        "#fundamental concepts of tensors in tensorflow\n",
        "- introduction to tensors\n",
        "- getting information from tensors\n",
        "- changing info in tensors\n",
        "- tensors and NUMpy\n",
        "- using @tf.functions  (speeds up regular python functions)\n",
        "- using GPUs and TensorFlow ( or TPUs)\n",
        "- Exercises"
      ],
      "metadata": {
        "id": "YC5HkRcacdC1"
      }
    },
    {
      "cell_type": "markdown",
      "source": [
        "#Introduction to tensors using tf.constant"
      ],
      "metadata": {
        "id": "Yx_3qb1zd1SF"
      }
    },
    {
      "cell_type": "code",
      "source": [
        "#import TensorFlow\n",
        "import tensorflow as tf\n",
        "print(tf.__version__)"
      ],
      "metadata": {
        "colab": {
          "base_uri": "https://localhost:8080/"
        },
        "id": "wFWUzANhc_d-",
        "outputId": "7d8dbe3c-a58c-44a5-aea6-756768645373"
      },
      "execution_count": null,
      "outputs": [
        {
          "output_type": "stream",
          "name": "stdout",
          "text": [
            "2.11.0\n"
          ]
        }
      ]
    },
    {
      "cell_type": "code",
      "source": [
        "#Creating tensors with tf.constant()\n",
        "scalar = tf.constant(7)\n",
        "scalar"
      ],
      "metadata": {
        "colab": {
          "base_uri": "https://localhost:8080/"
        },
        "id": "P0rkHiD_eUIf",
        "outputId": "7d3fa858-2d01-45ba-bd2c-455861f00842"
      },
      "execution_count": null,
      "outputs": [
        {
          "output_type": "execute_result",
          "data": {
            "text/plain": [
              "<tf.Tensor: shape=(), dtype=int32, numpy=7>"
            ]
          },
          "metadata": {},
          "execution_count": 2
        }
      ]
    },
    {
      "cell_type": "code",
      "source": [
        "#check number of dimension (ndim stands for number of dimensions)\n",
        "scalar.ndim  # returns 0 because the shape attribute is shape()"
      ],
      "metadata": {
        "colab": {
          "base_uri": "https://localhost:8080/"
        },
        "id": "YIFCXpS6e147",
        "outputId": "0bb53104-5fa0-48f4-a3ea-051e09f93fac"
      },
      "execution_count": null,
      "outputs": [
        {
          "output_type": "execute_result",
          "data": {
            "text/plain": [
              "0"
            ]
          },
          "metadata": {},
          "execution_count": 3
        }
      ]
    },
    {
      "cell_type": "code",
      "source": [
        "#create a vector\n",
        "vector = tf.constant([10, 10])\n",
        "vector"
      ],
      "metadata": {
        "colab": {
          "base_uri": "https://localhost:8080/"
        },
        "id": "XR_xjC9dfIwu",
        "outputId": "ae574b26-6c4b-4789-c450-3c2bc9439606"
      },
      "execution_count": null,
      "outputs": [
        {
          "output_type": "execute_result",
          "data": {
            "text/plain": [
              "<tf.Tensor: shape=(2,), dtype=int32, numpy=array([10, 10], dtype=int32)>"
            ]
          },
          "metadata": {},
          "execution_count": 4
        }
      ]
    },
    {
      "cell_type": "code",
      "source": [
        "#check dimension of the vector\n",
        "vector.ndim # look at the tuple in the shape of the vector above - it has one item"
      ],
      "metadata": {
        "colab": {
          "base_uri": "https://localhost:8080/"
        },
        "id": "B2uzlKuRfena",
        "outputId": "7e5e9a3d-1f91-43f8-8e82-3c9b2a8b9b41"
      },
      "execution_count": null,
      "outputs": [
        {
          "output_type": "execute_result",
          "data": {
            "text/plain": [
              "1"
            ]
          },
          "metadata": {},
          "execution_count": 5
        }
      ]
    },
    {
      "cell_type": "code",
      "source": [
        "#create a matric ( has more than one dimension)\n",
        "matrix = tf.constant([\n",
        "    [10,7],\n",
        "    [7,10]\n",
        "])\n",
        "matrix"
      ],
      "metadata": {
        "colab": {
          "base_uri": "https://localhost:8080/"
        },
        "id": "G4z6nai4fqoV",
        "outputId": "05f831bb-7c19-40de-cb29-143e023bdaa7"
      },
      "execution_count": null,
      "outputs": [
        {
          "output_type": "execute_result",
          "data": {
            "text/plain": [
              "<tf.Tensor: shape=(2, 2), dtype=int32, numpy=\n",
              "array([[10,  7],\n",
              "       [ 7, 10]], dtype=int32)>"
            ]
          },
          "metadata": {},
          "execution_count": 6
        }
      ]
    },
    {
      "cell_type": "code",
      "source": [
        "matrix.ndim"
      ],
      "metadata": {
        "colab": {
          "base_uri": "https://localhost:8080/"
        },
        "id": "oXZQQ5mNgbq3",
        "outputId": "f2db57a4-6c17-498f-ae75-a9c6d06aff57"
      },
      "execution_count": null,
      "outputs": [
        {
          "output_type": "execute_result",
          "data": {
            "text/plain": [
              "2"
            ]
          },
          "metadata": {},
          "execution_count": 7
        }
      ]
    },
    {
      "cell_type": "code",
      "source": [
        "#create another matrix\n",
        "another_matrix =tf.constant([\n",
        "    [10.,7.],\n",
        "    [3.,2.],\n",
        "    [8.,9,]],dtype=tf.float16) \n",
        "'''\n",
        " specify the float data type - the higher the numer in dtype the lower the precision but less\n",
        " data is stored, the higher the number e.g. float32 the higher the precision but the larger \n",
        " the data'''\n",
        "another_matrix"
      ],
      "metadata": {
        "colab": {
          "base_uri": "https://localhost:8080/"
        },
        "id": "7cjIpIGughBg",
        "outputId": "19fa7ec6-de52-45f5-819b-e96fdfc0aa4e"
      },
      "execution_count": null,
      "outputs": [
        {
          "output_type": "execute_result",
          "data": {
            "text/plain": [
              "<tf.Tensor: shape=(3, 2), dtype=float16, numpy=\n",
              "array([[10.,  7.],\n",
              "       [ 3.,  2.],\n",
              "       [ 8.,  9.]], dtype=float16)>"
            ]
          },
          "metadata": {},
          "execution_count": 8
        }
      ]
    },
    {
      "cell_type": "code",
      "source": [
        "#What is the number of dimensions of another_matrix?\n",
        "another_matrix.ndim"
      ],
      "metadata": {
        "colab": {
          "base_uri": "https://localhost:8080/"
        },
        "id": "Mp-PSiZ3iMl2",
        "outputId": "108da381-a27f-4bbc-b8a3-89ab87d7ceb6"
      },
      "execution_count": null,
      "outputs": [
        {
          "output_type": "execute_result",
          "data": {
            "text/plain": [
              "2"
            ]
          },
          "metadata": {},
          "execution_count": 9
        }
      ]
    },
    {
      "cell_type": "code",
      "source": [
        "#Increasing a number of dimensions\n",
        "'''\n",
        "Scaler = 1 dimension\n",
        "Matrix = 2 dimensions\n",
        "Tensor  = multi dimension ???\n",
        "'''\n",
        "#Creating a Tensor\n",
        "tensor = tf.constant([[[1,2,3],\n",
        "                        [4,5,6]],\n",
        "                      [[7,8,9],\n",
        "                        [10,11,12]],\n",
        "                    [[13,14,15],\n",
        "                      [16,17,18]]])\n",
        "tensor"
      ],
      "metadata": {
        "colab": {
          "base_uri": "https://localhost:8080/"
        },
        "id": "_u396kiljseU",
        "outputId": "0b2157e9-8ae8-4b3c-b40c-fbc6a3d99cf0"
      },
      "execution_count": null,
      "outputs": [
        {
          "output_type": "execute_result",
          "data": {
            "text/plain": [
              "<tf.Tensor: shape=(3, 2, 3), dtype=int32, numpy=\n",
              "array([[[ 1,  2,  3],\n",
              "        [ 4,  5,  6]],\n",
              "\n",
              "       [[ 7,  8,  9],\n",
              "        [10, 11, 12]],\n",
              "\n",
              "       [[13, 14, 15],\n",
              "        [16, 17, 18]]], dtype=int32)>"
            ]
          },
          "metadata": {},
          "execution_count": 10
        }
      ]
    },
    {
      "cell_type": "code",
      "source": [
        "#What is the dimensions of a tensor?\n",
        "tensor.ndim\n",
        "#"
      ],
      "metadata": {
        "colab": {
          "base_uri": "https://localhost:8080/"
        },
        "id": "cw_tK_lgk3ZV",
        "outputId": "ff7f6585-f15d-4796-dd19-52cf90011de4"
      },
      "execution_count": null,
      "outputs": [
        {
          "output_type": "execute_result",
          "data": {
            "text/plain": [
              "3"
            ]
          },
          "metadata": {},
          "execution_count": 11
        }
      ]
    },
    {
      "cell_type": "markdown",
      "source": [
        "#Summary Definitions\n",
        "* Scalar: a single number\n",
        "* Vector: a number with direction e.g. (wind speed and direction\n",
        "* Matrix a 2D array of numbers\n",
        "* Tensor is an n-dimesional array of numbers"
      ],
      "metadata": {
        "id": "2jIKrnQcm0lE"
      }
    },
    {
      "cell_type": "markdown",
      "source": [
        "#Creating Tensors using `tf.variable`"
      ],
      "metadata": {
        "id": "b0fNwg9Onylh"
      }
    },
    {
      "cell_type": "code",
      "source": [
        "#create same tensors using tf variable\n",
        "changeable_tensor = tf.Variable([10,7])\n",
        "unchangeable_tensor = tf.constant([10,7])\n",
        "\n",
        "changeable_tensor , unchangeable_tensor"
      ],
      "metadata": {
        "colab": {
          "base_uri": "https://localhost:8080/"
        },
        "id": "n6of9Wlhtzjl",
        "outputId": "eaa04b46-15eb-40b2-c614-ef5569170498"
      },
      "execution_count": null,
      "outputs": [
        {
          "output_type": "execute_result",
          "data": {
            "text/plain": [
              "(<tf.Variable 'Variable:0' shape=(2,) dtype=int32, numpy=array([10,  7], dtype=int32)>,\n",
              " <tf.Tensor: shape=(2,), dtype=int32, numpy=array([10,  7], dtype=int32)>)"
            ]
          },
          "metadata": {},
          "execution_count": 12
        }
      ]
    },
    {
      "cell_type": "code",
      "source": [
        "#changing one of the elements in the changeable tensor\n",
        "changeable_tensor[0] = 7"
      ],
      "metadata": {
        "colab": {
          "base_uri": "https://localhost:8080/",
          "height": 183
        },
        "id": "Cpjr_CNwu7vn",
        "outputId": "3a2d972f-85fd-4327-f3ec-5cbde06af0a3"
      },
      "execution_count": null,
      "outputs": [
        {
          "output_type": "error",
          "ename": "TypeError",
          "evalue": "ignored",
          "traceback": [
            "\u001b[0;31m---------------------------------------------------------------------------\u001b[0m",
            "\u001b[0;31mTypeError\u001b[0m                                 Traceback (most recent call last)",
            "\u001b[0;32m<ipython-input-13-eab5978481f8>\u001b[0m in \u001b[0;36m<module>\u001b[0;34m\u001b[0m\n\u001b[1;32m      1\u001b[0m \u001b[0;31m#changing one of the elements in the changeable tensor\u001b[0m\u001b[0;34m\u001b[0m\u001b[0;34m\u001b[0m\u001b[0m\n\u001b[0;32m----> 2\u001b[0;31m \u001b[0mchangeable_tensor\u001b[0m\u001b[0;34m[\u001b[0m\u001b[0;36m0\u001b[0m\u001b[0;34m]\u001b[0m \u001b[0;34m=\u001b[0m \u001b[0;36m7\u001b[0m\u001b[0;34m\u001b[0m\u001b[0;34m\u001b[0m\u001b[0m\n\u001b[0m",
            "\u001b[0;31mTypeError\u001b[0m: 'ResourceVariable' object does not support item assignment"
          ]
        }
      ]
    },
    {
      "cell_type": "code",
      "source": [
        "#using .assign()\n",
        "changeable_tensor[0].assign(7)\n",
        "changeable_tensor"
      ],
      "metadata": {
        "id": "KOzyxkuSvP7N"
      },
      "execution_count": null,
      "outputs": []
    },
    {
      "cell_type": "markdown",
      "source": [
        "⚡Rarely in practice one needs to decide whether to use tf.constant or tf.Variable to create tensors as TensorFlow does this automatically.\n",
        "# Creating Random Tensors\n",
        "\n",
        "Random tensors are tensors\n",
        "\n",
        "##usage: \n",
        "When a neuro network intialises / starts to learn, it uses random weights / random tensors / random patterns on which it has been trained' it then learns from these to update / train the output to match the learning output"
      ],
      "metadata": {
        "id": "k4zmTk0NwIbj"
      }
    },
    {
      "cell_type": "code",
      "source": [
        "#create two random (but same) tensors\n",
        "random_1 = tf.random.Generator.from_seed(42) #set seed for reproducibility\n",
        "random_1 = random_1.normal(shape=(3,2))\n",
        "random_1\n",
        "\n",
        "random_2 = tf.random.Generator.from_seed(42)\n",
        "random_2 = random_2.normal(shape=(3,2))\n",
        "\n",
        "#check if the two tensors are equal\n",
        "random_1, random_2, random_1 ==random_2"
      ],
      "metadata": {
        "colab": {
          "base_uri": "https://localhost:8080/"
        },
        "id": "f2dbNvd3wtgq",
        "outputId": "9270c795-4a64-47e4-fa32-7ecb44ece0bc"
      },
      "execution_count": null,
      "outputs": [
        {
          "output_type": "execute_result",
          "data": {
            "text/plain": [
              "(<tf.Tensor: shape=(3, 2), dtype=float32, numpy=\n",
              " array([[-0.7565803 , -0.06854702],\n",
              "        [ 0.07595026, -1.2573844 ],\n",
              "        [-0.23193763, -1.8107855 ]], dtype=float32)>,\n",
              " <tf.Tensor: shape=(3, 2), dtype=float32, numpy=\n",
              " array([[-0.7565803 , -0.06854702],\n",
              "        [ 0.07595026, -1.2573844 ],\n",
              "        [-0.23193763, -1.8107855 ]], dtype=float32)>,\n",
              " <tf.Tensor: shape=(3, 2), dtype=bool, numpy=\n",
              " array([[ True,  True],\n",
              "        [ True,  True],\n",
              "        [ True,  True]])>)"
            ]
          },
          "metadata": {},
          "execution_count": 18
        }
      ]
    },
    {
      "cell_type": "markdown",
      "source": [
        "#Shuffle the order of elements in a tensor\n",
        "\n",
        "### usage:\n",
        "If the Tensors are not shuffled, the neuro network might adjust its learning to only the values its encountering which might be too aligned however, shuffling introduces randomness such that the inherent order doesn't affect learning"
      ],
      "metadata": {
        "id": "W3BL-sFZ5mQH"
      }
    },
    {
      "cell_type": "code",
      "source": [
        "#shuffle a tensor\n",
        "not_shuffled = tf.constant([[10,7],\n",
        "                           [3,4],\n",
        "                           [2,5]])\n",
        "not_shuffled.ndim\n",
        "#shuffle a non random tensor\n",
        "tf.random.shuffle(not_shuffled)"
      ],
      "metadata": {
        "colab": {
          "base_uri": "https://localhost:8080/"
        },
        "id": "Hd3268-G5ubF",
        "outputId": "1148a7f4-b9e0-42a5-9ffd-cd33d6f856cb"
      },
      "execution_count": null,
      "outputs": [
        {
          "output_type": "execute_result",
          "data": {
            "text/plain": [
              "<tf.Tensor: shape=(3, 2), dtype=int32, numpy=\n",
              "array([[ 3,  4],\n",
              "       [ 2,  5],\n",
              "       [10,  7]], dtype=int32)>"
            ]
          },
          "metadata": {},
          "execution_count": 19
        }
      ]
    },
    {
      "cell_type": "code",
      "source": [
        "not_shuffled"
      ],
      "metadata": {
        "colab": {
          "base_uri": "https://localhost:8080/",
          "height": 165
        },
        "id": "MvIzM1QI8pxX",
        "outputId": "a1f9a223-7661-40d3-b68c-d10491cfb37f"
      },
      "execution_count": null,
      "outputs": [
        {
          "output_type": "error",
          "ename": "NameError",
          "evalue": "ignored",
          "traceback": [
            "\u001b[0;31m---------------------------------------------------------------------------\u001b[0m",
            "\u001b[0;31mNameError\u001b[0m                                 Traceback (most recent call last)",
            "\u001b[0;32m<ipython-input-17-89eda368c180>\u001b[0m in \u001b[0;36m<module>\u001b[0;34m\u001b[0m\n\u001b[0;32m----> 1\u001b[0;31m \u001b[0mnot_shuffled\u001b[0m\u001b[0;34m\u001b[0m\u001b[0;34m\u001b[0m\u001b[0m\n\u001b[0m",
            "\u001b[0;31mNameError\u001b[0m: name 'not_shuffled' is not defined"
          ]
        }
      ]
    },
    {
      "cell_type": "markdown",
      "source": [
        "⏰**Exercise** Read through TensorFlow documentation on random seed generation:\n",
        "\n",
        "[Random Seed](https://www.tensorflow.org/api_docs/python/tf/random/set_seed) and practice writing 5 random tensors and shuffle them."
      ],
      "metadata": {
        "id": "ZknJLFmQ-aom"
      }
    },
    {
      "cell_type": "code",
      "source": [
        "#Operation level seed\n",
        "#we get a different order each time\n",
        "tf.random.shuffle(not_shuffled, seed=42)"
      ],
      "metadata": {
        "id": "3hEY0ush-tXk"
      },
      "execution_count": null,
      "outputs": []
    },
    {
      "cell_type": "code",
      "source": [
        "#global level random level seed\n",
        "tf.random.set_seed(42)"
      ],
      "metadata": {
        "id": "r_Ac_MYI3oqK"
      },
      "execution_count": null,
      "outputs": []
    },
    {
      "cell_type": "markdown",
      "source": [
        "###Conclusion\n",
        "\n",
        "If we want the shuffled tensors to be in the same order, we have to use the global level random seed and the operational level random seed.\n",
        "\n",
        "####Rule 4 \n",
        "> Rule 4: If both the global and the operation seed are set: Both seeds are used in conjunction to determine the random sequence.\""
      ],
      "metadata": {
        "id": "wjDclGzR4Tl8"
      }
    },
    {
      "cell_type": "code",
      "source": [
        "tf.random.set_seed(42)\n",
        "tf.random.shuffle(not_shuffled, seed=42)"
      ],
      "metadata": {
        "colab": {
          "base_uri": "https://localhost:8080/",
          "height": 183
        },
        "id": "03xeLszo4vDV",
        "outputId": "bfa4da11-10de-45e2-9f35-2be1c0272272"
      },
      "execution_count": null,
      "outputs": [
        {
          "output_type": "error",
          "ename": "NameError",
          "evalue": "ignored",
          "traceback": [
            "\u001b[0;31m---------------------------------------------------------------------------\u001b[0m",
            "\u001b[0;31mNameError\u001b[0m                                 Traceback (most recent call last)",
            "\u001b[0;32m<ipython-input-16-8b5d5def4d01>\u001b[0m in \u001b[0;36m<module>\u001b[0;34m\u001b[0m\n\u001b[1;32m      1\u001b[0m \u001b[0mtf\u001b[0m\u001b[0;34m.\u001b[0m\u001b[0mrandom\u001b[0m\u001b[0;34m.\u001b[0m\u001b[0mset_seed\u001b[0m\u001b[0;34m(\u001b[0m\u001b[0;36m42\u001b[0m\u001b[0;34m)\u001b[0m\u001b[0;34m\u001b[0m\u001b[0;34m\u001b[0m\u001b[0m\n\u001b[0;32m----> 2\u001b[0;31m \u001b[0mtf\u001b[0m\u001b[0;34m.\u001b[0m\u001b[0mrandom\u001b[0m\u001b[0;34m.\u001b[0m\u001b[0mshuffle\u001b[0m\u001b[0;34m(\u001b[0m\u001b[0mnot_shuffled\u001b[0m\u001b[0;34m,\u001b[0m \u001b[0mseed\u001b[0m\u001b[0;34m=\u001b[0m\u001b[0;36m42\u001b[0m\u001b[0;34m)\u001b[0m\u001b[0;34m\u001b[0m\u001b[0;34m\u001b[0m\u001b[0m\n\u001b[0m",
            "\u001b[0;31mNameError\u001b[0m: name 'not_shuffled' is not defined"
          ]
        }
      ]
    },
    {
      "cell_type": "markdown",
      "source": [
        "##Recommended use of shuffling to make reproducable experiments\n",
        "\n",
        "* Shuffle input data in a similar order\n",
        "* Initialise with a similar random patterm\n"
      ],
      "metadata": {
        "id": "lWrwDoz7639d"
      }
    },
    {
      "cell_type": "markdown",
      "source": [
        "###Other ways of making tensors"
      ],
      "metadata": {
        "id": "BubxxfhO7ZkX"
      }
    },
    {
      "cell_type": "code",
      "source": [
        "tf.ones([10,7], tf.int32) # creates a tensor of all ones passing a shape and data type"
      ],
      "metadata": {
        "colab": {
          "base_uri": "https://localhost:8080/"
        },
        "id": "drpUArSX74Ge",
        "outputId": "8c72f38d-11da-44cb-c2e1-d96714f5e386"
      },
      "execution_count": null,
      "outputs": [
        {
          "output_type": "execute_result",
          "data": {
            "text/plain": [
              "<tf.Tensor: shape=(10, 7), dtype=int32, numpy=\n",
              "array([[1, 1, 1, 1, 1, 1, 1],\n",
              "       [1, 1, 1, 1, 1, 1, 1],\n",
              "       [1, 1, 1, 1, 1, 1, 1],\n",
              "       [1, 1, 1, 1, 1, 1, 1],\n",
              "       [1, 1, 1, 1, 1, 1, 1],\n",
              "       [1, 1, 1, 1, 1, 1, 1],\n",
              "       [1, 1, 1, 1, 1, 1, 1],\n",
              "       [1, 1, 1, 1, 1, 1, 1],\n",
              "       [1, 1, 1, 1, 1, 1, 1],\n",
              "       [1, 1, 1, 1, 1, 1, 1]], dtype=int32)>"
            ]
          },
          "metadata": {},
          "execution_count": 15
        }
      ]
    },
    {
      "cell_type": "code",
      "source": [
        "tf.zeros((3,4),tf.float16) # creates a tensor array of floats with zeros"
      ],
      "metadata": {
        "id": "_oKT6QsP8gKu"
      },
      "execution_count": null,
      "outputs": []
    },
    {
      "cell_type": "markdown",
      "source": [
        "#Convert a numpy array into tensors\n",
        "The main difference between Numpy array and tensor arrays is that tensors can be run on a GPU faster for numerical computing i.e. finding patterns in numbers"
      ],
      "metadata": {
        "id": "tdXe559H9Wgy"
      }
    },
    {
      "cell_type": "code",
      "source": [
        "#turn numpy array into tensors\n",
        "import numpy as np\n",
        "#X = tf.constant(Some_matrix) # capital for a matrix or tensor\n",
        "#y = tf.constant(vector) # non capital for a vector\n",
        "numpy_A= np.arange(1,25, dtype=np.int32) # create a numpy array between 1 and 25\n",
        "numpy_A"
      ],
      "metadata": {
        "colab": {
          "base_uri": "https://localhost:8080/"
        },
        "id": "CxFzFyTe9qtS",
        "outputId": "2d546f51-3a6b-435d-8b3e-caf10f2cd0bb"
      },
      "execution_count": null,
      "outputs": [
        {
          "output_type": "execute_result",
          "data": {
            "text/plain": [
              "array([ 1,  2,  3,  4,  5,  6,  7,  8,  9, 10, 11, 12, 13, 14, 15, 16, 17,\n",
              "       18, 19, 20, 21, 22, 23, 24], dtype=int32)"
            ]
          },
          "metadata": {},
          "execution_count": 14
        }
      ]
    },
    {
      "cell_type": "code",
      "source": [
        "#convert a numpy array into a tensor\n",
        "#tf.convert_to_tensor(numpy_A, dtype=tf.int32)\n",
        "A = tf.constant(numpy_A)\n",
        "A"
      ],
      "metadata": {
        "colab": {
          "base_uri": "https://localhost:8080/"
        },
        "id": "FS31BE1r-xYd",
        "outputId": "7bb8e826-7c71-4139-8610-6a67f94e4a8b"
      },
      "execution_count": null,
      "outputs": [
        {
          "output_type": "execute_result",
          "data": {
            "text/plain": [
              "<tf.Tensor: shape=(24,), dtype=int32, numpy=\n",
              "array([ 1,  2,  3,  4,  5,  6,  7,  8,  9, 10, 11, 12, 13, 14, 15, 16, 17,\n",
              "       18, 19, 20, 21, 22, 23, 24], dtype=int32)>"
            ]
          },
          "metadata": {},
          "execution_count": 40
        }
      ]
    },
    {
      "cell_type": "code",
      "source": [
        "#Convert a numpy array into a 2D tensor\n",
        "B = tf.constant(numpy_A,shape=(6,4))\n",
        "B"
      ],
      "metadata": {
        "colab": {
          "base_uri": "https://localhost:8080/"
        },
        "id": "3iZr3L1l_xlT",
        "outputId": "39e3cbab-2fa6-4692-fe08-849adb453d27"
      },
      "execution_count": null,
      "outputs": [
        {
          "output_type": "execute_result",
          "data": {
            "text/plain": [
              "<tf.Tensor: shape=(6, 4), dtype=int32, numpy=\n",
              "array([[ 1,  2,  3,  4],\n",
              "       [ 5,  6,  7,  8],\n",
              "       [ 9, 10, 11, 12],\n",
              "       [13, 14, 15, 16],\n",
              "       [17, 18, 19, 20],\n",
              "       [21, 22, 23, 24]], dtype=int32)>"
            ]
          },
          "metadata": {},
          "execution_count": 42
        }
      ]
    },
    {
      "cell_type": "code",
      "source": [
        "#convert a numpy array into a 3D tensor\n",
        "\n",
        "C = tf.constant(numpy_A,shape=(2,3,4))\n",
        "C"
      ],
      "metadata": {
        "colab": {
          "base_uri": "https://localhost:8080/"
        },
        "id": "DFjJxnWZAQT2",
        "outputId": "21c69049-4293-4044-ac77-3dd916527124"
      },
      "execution_count": null,
      "outputs": [
        {
          "output_type": "execute_result",
          "data": {
            "text/plain": [
              "<tf.Tensor: shape=(2, 3, 4), dtype=int32, numpy=\n",
              "array([[[ 1,  2,  3,  4],\n",
              "        [ 5,  6,  7,  8],\n",
              "        [ 9, 10, 11, 12]],\n",
              "\n",
              "       [[13, 14, 15, 16],\n",
              "        [17, 18, 19, 20],\n",
              "        [21, 22, 23, 24]]], dtype=int32)>"
            ]
          },
          "metadata": {},
          "execution_count": 43
        }
      ]
    },
    {
      "cell_type": "markdown",
      "source": [
        "#Getting more information from Tensors\n",
        "When dealing with tensors you probably want to be aware of the following attribues:\n",
        "* Shape\n",
        "* Rank\n",
        "* Axis or dimension\n",
        "* Size\n",
        "\n"
      ],
      "metadata": {
        "id": "3lFt44xjzhcF"
      }
    },
    {
      "cell_type": "code",
      "source": [
        "#Create a rank 4 tensor i.e. a tensor with 4 dimensions\n",
        "rank_4_tensor = tf.zeros(shape=[2,3,4,5])\n",
        "rank_4_tensor"
      ],
      "metadata": {
        "colab": {
          "base_uri": "https://localhost:8080/"
        },
        "id": "Tgjso7fT56nJ",
        "outputId": "0b0adad4-5e4b-46d1-f364-bb231dbb2989"
      },
      "execution_count": 20,
      "outputs": [
        {
          "output_type": "execute_result",
          "data": {
            "text/plain": [
              "<tf.Tensor: shape=(2, 3, 4, 5), dtype=float32, numpy=\n",
              "array([[[[0., 0., 0., 0., 0.],\n",
              "         [0., 0., 0., 0., 0.],\n",
              "         [0., 0., 0., 0., 0.],\n",
              "         [0., 0., 0., 0., 0.]],\n",
              "\n",
              "        [[0., 0., 0., 0., 0.],\n",
              "         [0., 0., 0., 0., 0.],\n",
              "         [0., 0., 0., 0., 0.],\n",
              "         [0., 0., 0., 0., 0.]],\n",
              "\n",
              "        [[0., 0., 0., 0., 0.],\n",
              "         [0., 0., 0., 0., 0.],\n",
              "         [0., 0., 0., 0., 0.],\n",
              "         [0., 0., 0., 0., 0.]]],\n",
              "\n",
              "\n",
              "       [[[0., 0., 0., 0., 0.],\n",
              "         [0., 0., 0., 0., 0.],\n",
              "         [0., 0., 0., 0., 0.],\n",
              "         [0., 0., 0., 0., 0.]],\n",
              "\n",
              "        [[0., 0., 0., 0., 0.],\n",
              "         [0., 0., 0., 0., 0.],\n",
              "         [0., 0., 0., 0., 0.],\n",
              "         [0., 0., 0., 0., 0.]],\n",
              "\n",
              "        [[0., 0., 0., 0., 0.],\n",
              "         [0., 0., 0., 0., 0.],\n",
              "         [0., 0., 0., 0., 0.],\n",
              "         [0., 0., 0., 0., 0.]]]], dtype=float32)>"
            ]
          },
          "metadata": {},
          "execution_count": 20
        }
      ]
    },
    {
      "cell_type": "code",
      "source": [
        "rank_4_tensor[0] # return the first element in rank_4_Tensor"
      ],
      "metadata": {
        "colab": {
          "base_uri": "https://localhost:8080/"
        },
        "id": "1vvIQtRh6zJP",
        "outputId": "6f2c6227-2f9c-4680-8655-e8b0f5db3f49"
      },
      "execution_count": 21,
      "outputs": [
        {
          "output_type": "execute_result",
          "data": {
            "text/plain": [
              "<tf.Tensor: shape=(3, 4, 5), dtype=float32, numpy=\n",
              "array([[[0., 0., 0., 0., 0.],\n",
              "        [0., 0., 0., 0., 0.],\n",
              "        [0., 0., 0., 0., 0.],\n",
              "        [0., 0., 0., 0., 0.]],\n",
              "\n",
              "       [[0., 0., 0., 0., 0.],\n",
              "        [0., 0., 0., 0., 0.],\n",
              "        [0., 0., 0., 0., 0.],\n",
              "        [0., 0., 0., 0., 0.]],\n",
              "\n",
              "       [[0., 0., 0., 0., 0.],\n",
              "        [0., 0., 0., 0., 0.],\n",
              "        [0., 0., 0., 0., 0.],\n",
              "        [0., 0., 0., 0., 0.]]], dtype=float32)>"
            ]
          },
          "metadata": {},
          "execution_count": 21
        }
      ]
    },
    {
      "cell_type": "markdown",
      "source": [
        "![Screenshot_1.png](data:image/png;base64,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)"
      ],
      "metadata": {
        "id": "FU7wZN9g7K9_"
      }
    },
    {
      "cell_type": "code",
      "source": [
        "#getting other attributes\n",
        "rank_4_tensor.shape,rank_4_tensor.ndim, tf.size(rank_4_tensor)"
      ],
      "metadata": {
        "colab": {
          "base_uri": "https://localhost:8080/"
        },
        "id": "bC_Zx4Rq7-PN",
        "outputId": "7dd12818-9639-45bb-c3d4-17f51b704df6"
      },
      "execution_count": 22,
      "outputs": [
        {
          "output_type": "execute_result",
          "data": {
            "text/plain": [
              "(TensorShape([2, 3, 4, 5]), 4, <tf.Tensor: shape=(), dtype=int32, numpy=120>)"
            ]
          },
          "metadata": {},
          "execution_count": 22
        }
      ]
    },
    {
      "cell_type": "code",
      "source": [
        "#number of elements in product of dimentions\n",
        "2*3*4*5"
      ],
      "metadata": {
        "colab": {
          "base_uri": "https://localhost:8080/"
        },
        "id": "0oeQXAYc8ofE",
        "outputId": "01544591-4a8e-49de-c5ac-473d22ec2471"
      },
      "execution_count": 23,
      "outputs": [
        {
          "output_type": "execute_result",
          "data": {
            "text/plain": [
              "120"
            ]
          },
          "metadata": {},
          "execution_count": 23
        }
      ]
    },
    {
      "cell_type": "code",
      "source": [
        "#Get various attributes of a tensor using print statements\n",
        "\n",
        "print(f'Data type of every element: {rank_4_tensor.dtype}')\n",
        "print(f'Number of dimensions: {rank_4_tensor.ndim}')\n",
        "print(f'The shape of the tensor: {rank_4_tensor.shape} ')\n",
        "print(f'Elements alog the 0 axis:{rank_4_tensor.shape[0]} ')\n",
        "print(f'Elements along the last axis: {rank_4_tensor.shape[-1]}')\n",
        "print(f'The total number of elements in a tensor: {tf.size(rank_4_tensor)}')"
      ],
      "metadata": {
        "colab": {
          "base_uri": "https://localhost:8080/"
        },
        "id": "7kmSFeJN85sq",
        "outputId": "b8bed5ad-54b5-44a2-afd6-e6cd8ba0a14e"
      },
      "execution_count": 28,
      "outputs": [
        {
          "output_type": "stream",
          "name": "stdout",
          "text": [
            "Data type of every element: <dtype: 'float32'>\n",
            "Number of dimensions: 4\n",
            "The shape of the tensor: (2, 3, 4, 5) \n",
            "Elements alog the 0 axis:2 \n",
            "Elements along the last axis: 5\n",
            "The total number of elements in a tensor: 120\n"
          ]
        }
      ]
    }
  ]
}