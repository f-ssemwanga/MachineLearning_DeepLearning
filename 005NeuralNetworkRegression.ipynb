{
  "nbformat": 4,
  "nbformat_minor": 0,
  "metadata": {
    "colab": {
      "provenance": [],
      "authorship_tag": "ABX9TyNJxPx5zJK8cPm4mCqveaTH",
      "include_colab_link": true
    },
    "kernelspec": {
      "name": "python3",
      "display_name": "Python 3"
    },
    "language_info": {
      "name": "python"
    }
  },
  "cells": [
    {
      "cell_type": "markdown",
      "metadata": {
        "id": "view-in-github",
        "colab_type": "text"
      },
      "source": [
        "<a href=\"https://colab.research.google.com/github/f-ssemwanga/MachineLearning_DeepLearning/blob/main/005NeuralNetworkRegression.ipynb\" target=\"_parent\"><img src=\"https://colab.research.google.com/assets/colab-badge.svg\" alt=\"Open In Colab\"/></a>"
      ]
    },
    {
      "cell_type": "markdown",
      "source": [
        "##Introduction to regression with Neural Networks in Tensor Flow\n",
        "\n",
        "* Regression problem is the predicting of a numberical variable based on some other combination  of variables   \n"
      ],
      "metadata": {
        "id": "T1eXOjyBLF6v"
      }
    },
    {
      "cell_type": "code",
      "execution_count": 2,
      "metadata": {
        "colab": {
          "base_uri": "https://localhost:8080/"
        },
        "id": "061DF9xtKru_",
        "outputId": "1717fab8-5b01-4568-f711-fea5e349d45f"
      },
      "outputs": [
        {
          "output_type": "stream",
          "name": "stdout",
          "text": [
            "Tensorflow Version: 2.11.0\n"
          ]
        }
      ],
      "source": [
        "#Get some data\n",
        "import tensorflow as tf\n",
        "print(f'Tensorflow Version: {tf.__version__}')"
      ]
    },
    {
      "cell_type": "markdown",
      "source": [
        "***Creating data to view and fit***"
      ],
      "metadata": {
        "id": "BiwRogXPb2at"
      }
    },
    {
      "cell_type": "code",
      "source": [
        "import numpy as np\n",
        "import matplotlib.pyplot as plt\n",
        "#create features / predictions\n",
        "x = np.array([-7.0, -4.0, -1.0,2.0, 5.0, 8.0, 11.0, 14.0 ])\n",
        "#create labels\n",
        "y=np.array([3.0, 6.0, 9.0, 12.0, 15.0, 18.0, 21.0, 24.0])\n",
        "#visualise it\n",
        "plt.scatter(x,y)"
      ],
      "metadata": {
        "colab": {
          "base_uri": "https://localhost:8080/",
          "height": 286
        },
        "id": "9XyrRndQcA3w",
        "outputId": "3f8cf308-4497-4656-9b69-af4a17b8e278"
      },
      "execution_count": 3,
      "outputs": [
        {
          "output_type": "execute_result",
          "data": {
            "text/plain": [
              "<matplotlib.collections.PathCollection at 0x7fc2fbb6e3a0>"
            ]
          },
          "metadata": {},
          "execution_count": 3
        },
        {
          "output_type": "display_data",
          "data": {
            "text/plain": [
              "<Figure size 432x288 with 1 Axes>"
            ],
            "image/png": "[encoded data removed]"
          },
          "metadata": {
            "needs_background": "light"
          }
        }
      ]
    },
    {
      "cell_type": "code",
      "source": [
        "#from the above\n",
        "y == x+10 # this is the function / relationship we want our Neural Network to learn\n"
      ],
      "metadata": {
        "colab": {
          "base_uri": "https://localhost:8080/"
        },
        "id": "aMyzaYyrdRPK",
        "outputId": "fb4d6a79-1579-4a7f-9357-ef9b8df93b82"
      },
      "execution_count": 7,
      "outputs": [
        {
          "output_type": "execute_result",
          "data": {
            "text/plain": [
              "array([ True,  True,  True,  True,  True,  True,  True,  True])"
            ]
          },
          "metadata": {},
          "execution_count": 7
        }
      ]
    },
    {
      "cell_type": "markdown",
      "source": [
        "##input and output shapes\n",
        "* if we are to build a model between x and y what might be the shapes of the input and output?"
      ],
      "metadata": {
        "id": "zKHQDc29d7Gb"
      }
    },
    {
      "cell_type": "code",
      "source": [
        "#create a demo tensor for the housing price preduction problem\n",
        "house_info = tf.constant([\"bedroom\", \"bathroom\", \"garage\"])\n",
        "house_price = tf.constant([939700])\n",
        "house_info, house_price"
      ],
      "metadata": {
        "colab": {
          "base_uri": "https://localhost:8080/"
        },
        "id": "zrsdf-nAeeIg",
        "outputId": "1095e489-de5b-4385-cdcd-640d8da063ed"
      },
      "execution_count": 8,
      "outputs": [
        {
          "output_type": "execute_result",
          "data": {
            "text/plain": [
              "(<tf.Tensor: shape=(3,), dtype=string, numpy=array([b'bedroom', b'bathroom', b'garage'], dtype=object)>,\n",
              " <tf.Tensor: shape=(1,), dtype=int32, numpy=array([939700], dtype=int32)>)"
            ]
          },
          "metadata": {},
          "execution_count": 8
        }
      ]
    },
    {
      "cell_type": "code",
      "source": [
        "#input and output shape for the scatter above\n",
        "input_shape = x.shape\n",
        "output_shape =y.shape\n",
        "input_shape, output_shape"
      ],
      "metadata": {
        "colab": {
          "base_uri": "https://localhost:8080/"
        },
        "id": "63RQnch7fTSo",
        "outputId": "7635b83c-f69f-4f6d-aaca-f5f7897ad3b0"
      },
      "execution_count": 9,
      "outputs": [
        {
          "output_type": "execute_result",
          "data": {
            "text/plain": [
              "((8,), (8,))"
            ]
          },
          "metadata": {},
          "execution_count": 9
        }
      ]
    },
    {
      "cell_type": "code",
      "source": [
        "#use one input i.e. one x value/ feature to predict one y value/ feature\n",
        "x[0], y[0] "
      ],
      "metadata": {
        "colab": {
          "base_uri": "https://localhost:8080/"
        },
        "id": "sQXQhQdnfnQM",
        "outputId": "a8b366c3-cda7-4422-c725-18af3397e6f8"
      },
      "execution_count": 10,
      "outputs": [
        {
          "output_type": "execute_result",
          "data": {
            "text/plain": [
              "(-7.0, 3.0)"
            ]
          },
          "metadata": {},
          "execution_count": 10
        }
      ]
    },
    {
      "cell_type": "code",
      "source": [
        "x[1],y[1]"
      ],
      "metadata": {
        "colab": {
          "base_uri": "https://localhost:8080/"
        },
        "id": "vF8lgZahgDRF",
        "outputId": "5dad6804-983b-4fb2-ff0c-a50d1c90f0ac"
      },
      "execution_count": 11,
      "outputs": [
        {
          "output_type": "execute_result",
          "data": {
            "text/plain": [
              "(-4.0, 6.0)"
            ]
          },
          "metadata": {},
          "execution_count": 11
        }
      ]
    },
    {
      "cell_type": "code",
      "source": [
        "#Turn numpy arrays into tensors\n",
        "x =tf.constant(x)\n",
        "y = tf.constant(y)\n",
        "x,y"
      ],
      "metadata": {
        "colab": {
          "base_uri": "https://localhost:8080/"
        },
        "id": "7pFCv57klOPJ",
        "outputId": "7370fba0-dadf-4f98-88ec-137fab176e4b"
      },
      "execution_count": 13,
      "outputs": [
        {
          "output_type": "execute_result",
          "data": {
            "text/plain": [
              "(<tf.Tensor: shape=(8,), dtype=float64, numpy=array([-7., -4., -1.,  2.,  5.,  8., 11., 14.])>,\n",
              " <tf.Tensor: shape=(8,), dtype=float64, numpy=array([ 3.,  6.,  9., 12., 15., 18., 21., 24.])>)"
            ]
          },
          "metadata": {},
          "execution_count": 13
        }
      ]
    },
    {
      "cell_type": "code",
      "source": [
        "input_shape = x[0].shape\n",
        "output_shape = y[0].shape\n",
        "input_shape,output_shape"
      ],
      "metadata": {
        "colab": {
          "base_uri": "https://localhost:8080/"
        },
        "id": "hgw3a6Dslc7M",
        "outputId": "6cdcace5-750a-4f9d-fe9e-51e57f6c39f2"
      },
      "execution_count": 16,
      "outputs": [
        {
          "output_type": "execute_result",
          "data": {
            "text/plain": [
              "(TensorShape([]), TensorShape([]))"
            ]
          },
          "metadata": {},
          "execution_count": 16
        }
      ]
    },
    {
      "cell_type": "code",
      "source": [
        "plt.scatter(x,y)"
      ],
      "metadata": {
        "colab": {
          "base_uri": "https://localhost:8080/",
          "height": 286
        },
        "id": "23exjAZwmPOi",
        "outputId": "bc3ff554-faad-4b23-e9b2-187bb773cc7a"
      },
      "execution_count": 17,
      "outputs": [
        {
          "output_type": "execute_result",
          "data": {
            "text/plain": [
              "<matplotlib.collections.PathCollection at 0x7fc2f727a220>"
            ]
          },
          "metadata": {},
          "execution_count": 17
        },
        {
          "output_type": "display_data",
          "data": {
            "text/plain": [
              "<Figure size 432x288 with 1 Axes>"
            ],
            "image/png": "[encoded data removed]"
          },
          "metadata": {
            "needs_background": "light"
          }
        }
      ]
    },
    {
      "cell_type": "markdown",
      "source": [
        "##**Steps in modelling with TensorFlow**\n",
        "\n",
        "1. **Creating a model** - define the input and output layers, as well as the hidden layers of a deep learning model.\n",
        "2. **Compile the model** - define the **loss function** (tells the mode how wrong it is), the **optimiser** (tells the model how to improve the patterns it is learning and **Evaluation metrics** (we use these to interpret the performance of a our model)\n",
        "3. **Fitting a mode** - letting the model try to find the patterns between x and y (features and labels)\n",
        "\n",
        "*side note: The choice of 42 as a seed value is somewhat arbitrary, but it has become a convention in the programming community due to its association with the book \"The Hitchhiker's Guide to the Galaxy\" by Douglas Adams, where it is famously referred to as the \"Answer to the Ultimate Question of Life, the Universe, and Everything.\"*\n",
        "\n",
        "* mae - **mean absolute Error** - commonly used loss function for regression problems.  Measures the average absloute difference between the predicted and actual values. **It measures the accuracy of the model's predictions i.e. on average how wrong are the predictions**\n",
        "* A lower mae indicates the model is better at predicting the target variable, normally used in conjunction with the RMSE (root mean square error) to get a better understanding of the model's performance\n",
        "* sgd **stochastic gradient decent** - optimisation algorithm which minimises the loss function during the training process - basically tells the optimiser how to improve\n",
        "\n"
      ],
      "metadata": {
        "id": "IF5ScKgombPM"
      }
    },
    {
      "cell_type": "code",
      "source": [
        "#set random seed for reproducibility\n",
        "tf.random.set_seed(42)\n",
        "'''#following creation, compile and fitting from documentation\n",
        "model = tf.keras.Sequential()\n",
        "model.add(tf.keras.layers.Dense([1]))\n",
        "model.compile(optimizer=\"sgd\", loss='mae')\n",
        "model.fit(x,y,batch_size=32, epochs=5)'''\n",
        "\n",
        "#1. Create a model using the Sequential API\n",
        "model = tf.keras.Sequential([\n",
        "    tf.keras.layers.Dense(1)# because we need 1 input to predict one output in this example\n",
        "])\n",
        "#2. Compile the model\n",
        "model.compile(loss=tf.keras.losses.mae, #loss mae means mean absloute error\n",
        "              optimizer =\"sgd\", #sgd is stochastic gradient decent\n",
        "              metrics=[\"mae\"]) \n"
      ],
      "metadata": {
        "id": "j6APYICDmTIb"
      },
      "execution_count": 21,
      "outputs": []
    },
    {
      "cell_type": "code",
      "source": [
        "#check data types before fitting\n",
        "x.dtype, y.dtype\n"
      ],
      "metadata": {
        "colab": {
          "base_uri": "https://localhost:8080/"
        },
        "id": "8GMaEn2R3966",
        "outputId": "5082dd9d-9d98-4f8c-a1b7-a564fc1114e7"
      },
      "execution_count": 18,
      "outputs": [
        {
          "output_type": "execute_result",
          "data": {
            "text/plain": [
              "(tf.float64, tf.float64)"
            ]
          },
          "metadata": {},
          "execution_count": 18
        }
      ]
    },
    {
      "cell_type": "code",
      "source": [
        "#As keras dense layer uses float32 we will change the type before fitting the model\n",
        "x =tf.cast(x,tf.float32)\n",
        "y =tf.cast(y, tf.float32)\n",
        "\n",
        "#now fit the model\n",
        "#3. Fit the model\n",
        "#The code adds an extra dimension to X on the last axis, turning it ndim=1 to ndim=2 (what the model requires).\n",
        "model.fit(tf.expand_dims(x, axis=-1),y,epochs=5)"
      ],
      "metadata": {
        "colab": {
          "base_uri": "https://localhost:8080/"
        },
        "id": "MN1d9h0c4Mdd",
        "outputId": "d69654e3-cb7d-4e62-9513-fb12c8bc37d6"
      },
      "execution_count": 27,
      "outputs": [
        {
          "output_type": "stream",
          "name": "stdout",
          "text": [
            "Epoch 1/5\n",
            "1/1 [==============================] - 0s 26ms/step - loss: 12.1982 - mae: 12.1982\n",
            "Epoch 2/5\n",
            "1/1 [==============================] - 0s 18ms/step - loss: 12.0657 - mae: 12.0657\n",
            "Epoch 3/5\n",
            "1/1 [==============================] - 0s 16ms/step - loss: 11.9332 - mae: 11.9332\n",
            "Epoch 4/5\n",
            "1/1 [==============================] - 0s 17ms/step - loss: 11.8007 - mae: 11.8007\n",
            "Epoch 5/5\n",
            "1/1 [==============================] - 0s 19ms/step - loss: 11.6682 - mae: 11.6682\n"
          ]
        },
        {
          "output_type": "execute_result",
          "data": {
            "text/plain": [
              "<keras.callbacks.History at 0x7fc2ee7ec670>"
            ]
          },
          "metadata": {},
          "execution_count": 27
        }
      ]
    },
    {
      "cell_type": "code",
      "source": [
        "#Use the model above to make a prediction\n",
        "#check out x and y\n",
        "x,y"
      ],
      "metadata": {
        "colab": {
          "base_uri": "https://localhost:8080/"
        },
        "id": "Oq3Ufxcn53hh",
        "outputId": "b34bf19f-a115-4a90-a922-f97fa18f6f6e"
      },
      "execution_count": 29,
      "outputs": [
        {
          "output_type": "execute_result",
          "data": {
            "text/plain": [
              "(<tf.Tensor: shape=(8,), dtype=float32, numpy=array([-7., -4., -1.,  2.,  5.,  8., 11., 14.], dtype=float32)>,\n",
              " <tf.Tensor: shape=(8,), dtype=float32, numpy=array([ 3.,  6.,  9., 12., 15., 18., 21., 24.], dtype=float32)>)"
            ]
          },
          "metadata": {},
          "execution_count": 29
        }
      ]
    },
    {
      "cell_type": "code",
      "source": [
        "#try and make a prediction using the model\n",
        "y_pred = model.predict([17.0])\n",
        "y_pred"
      ],
      "metadata": {
        "colab": {
          "base_uri": "https://localhost:8080/"
        },
        "id": "XEefbFd56MnA",
        "outputId": "5a1ef652-4903-4aa3-8d03-b00a29c52153"
      },
      "execution_count": 31,
      "outputs": [
        {
          "output_type": "stream",
          "name": "stdout",
          "text": [
            "1/1 [==============================] - 0s 44ms/step\n"
          ]
        },
        {
          "output_type": "execute_result",
          "data": {
            "text/plain": [
              "array([[8.017537]], dtype=float32)"
            ]
          },
          "metadata": {},
          "execution_count": 31
        }
      ]
    },
    {
      "cell_type": "code",
      "source": [],
      "metadata": {
        "id": "83PQwXMS6guX"
      },
      "execution_count": null,
      "outputs": []
    }
  ]
}